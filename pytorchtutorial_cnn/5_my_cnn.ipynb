{
 "cells": [
  {
   "cell_type": "code",
   "execution_count": 6,
   "metadata": {},
   "outputs": [],
   "source": [
    "import torch\n",
    "import torch.nn as nn\n",
    "import torch.nn.functional as F\n",
    "\n",
    "\n",
    "class Net(nn.Module):\n",
    "    def __init__(self):\n",
    "        super(Net, self).__init__()\n",
    "        self.conv1 = nn.Conv2d(3,6,5,stride=2,padding=2)#256->128\n",
    "        self.conv2 = nn.Conv2d(6, 16, 5,stride=2,padding=2)#128->64\n",
    "        self.conv3 = nn.Conv2d(16,32, 5,stride=1,padding=1)\n",
    "        self.conv4 = nn.Conv2d(32,64, 5,stride=2,padding=2)#64->32\n",
    "        self.conv5 = nn.Conv2d(64,128, 5,stride=2,padding=2)#32->16\n",
    "\n",
    "        self.pool = nn.MaxPool2d(2, 2)\n",
    "        \n",
    "        self.fc1 = nn.Linear(128 * 16 * 16, 120)\n",
    "        self.fc2 = nn.Linear(120, 84)\n",
    "        self.fc3 = nn.Linear(84, 10)\n",
    "\n",
    "    def forward(self, x):\n",
    "        x = F.relu(self.conv1(x))\n",
    "        #x = self.pool(F.relu(self.conv1(x)))\n",
    "        print(f\"conv1 shape : {x.shape}\")\n",
    "        x = F.relu(self.conv2(x))\n",
    "        #x = self.pool(F.relu(self.conv2(x)))\n",
    "        \n",
    "        print(f\"conv2 shape : {x.shape}\")\n",
    "        x = F.relu(self.conv3(x))\n",
    "        \n",
    "        #x = self.pool(F.relu(self.conv3(x)))\n",
    "        \n",
    "        print(f\"conv3 shape : {x.shape}\")\n",
    "        x = F.relu(self.conv4(x))\n",
    "        \n",
    "        #x = self.pool(F.relu(self.conv4(x)))\n",
    "        print(f\"conv4 shape : {x.shape}\")\n",
    "        \n",
    "        x = F.relu(self.conv5(x))\n",
    "        #x = self.pool(F.relu(self.conv5(x)))\n",
    "        print(f\"conv5 shape : {x.shape}\")\n",
    "        \n",
    "        x = x.view(-1, 128 * 16 * 16)\n",
    "        x = F.relu(self.fc1(x))\n",
    "        x = F.relu(self.fc2(x))\n",
    "        x = self.fc3(x)\n",
    "        return x\n",
    "\n",
    "\n",
    "net = Net()"
   ]
  },
  {
   "cell_type": "code",
   "execution_count": 7,
   "metadata": {},
   "outputs": [
    {
     "name": "stdout",
     "output_type": "stream",
     "text": [
      "conv1 shape : torch.Size([1, 6, 128, 128])\n",
      "conv2 shape : torch.Size([1, 16, 64, 64])\n",
      "conv3 shape : torch.Size([1, 32, 62, 62])\n",
      "conv4 shape : torch.Size([1, 64, 31, 31])\n",
      "conv5 shape : torch.Size([1, 128, 16, 16])\n"
     ]
    }
   ],
   "source": [
    "sample_input = torch.randn(1,3,256,256)\n",
    "outputs = net(sample_input)"
   ]
  },
  {
   "cell_type": "code",
   "execution_count": null,
   "metadata": {},
   "outputs": [],
   "source": []
  }
 ],
 "metadata": {
  "kernelspec": {
   "display_name": "Python 3",
   "language": "python",
   "name": "python3"
  },
  "language_info": {
   "codemirror_mode": {
    "name": "ipython",
    "version": 3
   },
   "file_extension": ".py",
   "mimetype": "text/x-python",
   "name": "python",
   "nbconvert_exporter": "python",
   "pygments_lexer": "ipython3",
   "version": "3.8.5"
  }
 },
 "nbformat": 4,
 "nbformat_minor": 4
}
