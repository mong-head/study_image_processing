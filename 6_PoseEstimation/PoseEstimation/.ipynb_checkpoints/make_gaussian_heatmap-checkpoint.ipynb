{
 "cells": [
  {
   "cell_type": "markdown",
   "metadata": {},
   "source": [
    "## Gaussian heatmap 구현\n",
    "* Pose estimation에서 관절의 좌표를 표현하는 형식인 히트맵 방식에 대해 구현해보자\n",
    "* 구현에 필요한 수식은 아래에 있다\n",
    "* 관절의 좌표 (x, y)를 받아 이미지 크기만큼의 행렬에서 (x,y)좌표의 값이 가장 큰 값을 가지도록 구현해보자\n",
    "\n",
    "\n",
    "* hm1 : 이미지 크기는 128x128, 관절의 좌표는 (50, 50)\n",
    "* hm2 : 이미지 크기는 128x128, 관절의 좌표는 (30, 30)\n",
    "* hm3 : 이미지 크기는 128x128, 관절의 좌표는 (90, 40)\n",
    "\n",
    "![bivariate](./bivariate_gaussian.png)"
   ]
  },
  {
   "cell_type": "code",
   "execution_count": 20,
   "metadata": {},
   "outputs": [],
   "source": [
    "import numpy as np\n",
    "from matplotlib import pyplot as plt\n",
    " \n",
    "def gaussian_heatmap(image_size, center_point):\n",
    "    mu = 0.0\n",
    "    sigma = 1.0\n",
    "    ro = 0\n",
    "\n",
    "    center_x = center_point[0]\n",
    "    center_y = center_point[1]\n",
    "\n",
    "    grid_y, grid_x = np.meshgrid(np.arange(image_size[0]), np.arange(image_size[1]))\n",
    "\n",
    "    x = grid_x - center_x\n",
    "    y = grid_y - center_y\n",
    "\n",
    "    return np.exp(-1 * (x ** 2 - 2 * ro * x * y + y**2) / (2 * (1 - ro**2)))"
   ]
  },
  {
   "cell_type": "code",
   "execution_count": 21,
   "metadata": {},
   "outputs": [],
   "source": [
    "hm1 = gaussian_heatmap((128, 128), (50, 50))\n",
    "hm2 = gaussian_heatmap((128, 128), (30, 30))\n",
    "hm3 = gaussian_heatmap((128, 128), (90, 40))"
   ]
  },
  {
   "cell_type": "code",
   "execution_count": 22,
   "metadata": {},
   "outputs": [],
   "source": [
    "all_hm = np.concatenate([hm1,hm2,hm3],axis=1) #axis=1 : 수평으로 덧붙임,axis=0은 수직으로 덧붙임"
   ]
  },
  {
   "cell_type": "code",
   "execution_count": 23,
   "metadata": {},
   "outputs": [],
   "source": [
    "hms = np.stack([hm1,hm2,hm3])"
   ]
  },
  {
   "cell_type": "code",
   "execution_count": 24,
   "metadata": {},
   "outputs": [
    {
     "data": {
      "text/plain": [
       "<matplotlib.image.AxesImage at 0x1d9a2291310>"
      ]
     },
     "execution_count": 24,
     "metadata": {},
     "output_type": "execute_result"
    },
    {
     "data": {
      "image/png": "[encoded data removed]",
      "text/plain": [
       "<Figure size 576x576 with 1 Axes>"
      ]
     },
     "metadata": {
      "needs_background": "light"
     },
     "output_type": "display_data"
    }
   ],
   "source": [
    "plt.figure(figsize=(8, 8))\n",
    "plt.imshow(all_hm) #이미지 3개 덧붙인거 각각마다"
   ]
  },
  {
   "cell_type": "code",
   "execution_count": 25,
   "metadata": {},
   "outputs": [
    {
     "data": {
      "text/plain": [
       "<matplotlib.image.AxesImage at 0x1d9a2445a60>"
      ]
     },
     "execution_count": 25,
     "metadata": {},
     "output_type": "execute_result"
    },
    {
     "data": {
      "image/png": "[encoded data removed]",
      "text/plain": [
       "<Figure size 432x288 with 1 Axes>"
      ]
     },
     "metadata": {
      "needs_background": "light"
     },
     "output_type": "display_data"
    }
   ],
   "source": [
    "plt.imshow(hms.max(axis=0)) #3개 channel을 합침"
   ]
  },
  {
   "cell_type": "code",
   "execution_count": null,
   "metadata": {},
   "outputs": [],
   "source": []
  }
 ],
 "metadata": {
  "kernelspec": {
   "display_name": "Python 3",
   "language": "python",
   "name": "python3"
  },
  "language_info": {
   "codemirror_mode": {
    "name": "ipython",
    "version": 3
   },
   "file_extension": ".py",
   "mimetype": "text/x-python",
   "name": "python",
   "nbconvert_exporter": "python",
   "pygments_lexer": "ipython3",
   "version": "3.8.5"
  }
 },
 "nbformat": 4,
 "nbformat_minor": 4
}
