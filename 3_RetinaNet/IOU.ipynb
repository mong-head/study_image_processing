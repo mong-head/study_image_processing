{
 "cells": [
  {
   "cell_type": "code",
   "execution_count": 1,
   "metadata": {},
   "outputs": [],
   "source": [
    "class rectangular:\n",
    "    def __init__(self,x1,x2,y1,y2):\n",
    "        super().__init__()\n",
    "        \n",
    "        if x1 < x2 : \n",
    "            self.x1 = x1\n",
    "            self.x2 = x2\n",
    "        else :\n",
    "            self.x1 = x2\n",
    "            self.x2 = x1\n",
    "        \n",
    "        if y1 < y2 :\n",
    "            self.y1 = y1\n",
    "            self.y2 = y2\n",
    "        else :\n",
    "            self.y1 = y2\n",
    "            self.y2 = y1\n",
    "        \n",
    "    def area():\n",
    "        self.area = abs(x1-x2)*abs(y1-y2)\n",
    "        return self.area"
   ]
  },
  {
   "cell_type": "code",
   "execution_count": null,
   "metadata": {},
   "outputs": [],
   "source": [
    "def box_intersection(box1,box2):\n",
    "    if box1.x2 > box2.x1 :\n",
    "        if box1.y1 > "
   ]
  },
  {
   "cell_type": "code",
   "execution_count": 2,
   "metadata": {},
   "outputs": [],
   "source": [
    "box1 = rectangular(100,200,100,200)\n",
    "box2 = rectangular(150,250,150,250)"
   ]
  }
 ],
 "metadata": {
  "kernelspec": {
   "display_name": "Python 3",
   "language": "python",
   "name": "python3"
  },
  "language_info": {
   "codemirror_mode": {
    "name": "ipython",
    "version": 3
   },
   "file_extension": ".py",
   "mimetype": "text/x-python",
   "name": "python",
   "nbconvert_exporter": "python",
   "pygments_lexer": "ipython3",
   "version": "3.8.5"
  }
 },
 "nbformat": 4,
 "nbformat_minor": 4
}
