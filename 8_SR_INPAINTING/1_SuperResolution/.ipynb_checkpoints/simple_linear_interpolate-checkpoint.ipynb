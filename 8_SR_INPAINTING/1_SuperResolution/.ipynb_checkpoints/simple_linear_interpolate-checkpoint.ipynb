{
 "cells": [
  {
   "cell_type": "markdown",
   "metadata": {},
   "source": [
    "## Linear interpolate\n",
    "\n",
    "이미지의 크기를 두배로 키우기"
   ]
  },
  {
   "cell_type": "code",
   "execution_count": 6,
   "metadata": {},
   "outputs": [],
   "source": [
    "import numpy as np\n",
    "import cv2\n",
    "import math"
   ]
  },
  {
   "cell_type": "code",
   "execution_count": 7,
   "metadata": {},
   "outputs": [],
   "source": [
    "def x2_linear_upsample(image):\n",
    "    height, width = image.shape\n",
    "    \n",
    "    resized_image = np.zeros((height * 2, width * 2))\n",
    "    \n",
    "    for i in range(height * 2):\n",
    "        for j in range(width * 2):\n",
    "            xl, yl = math.floor(j / 2), math.floor(i / 2)\n",
    "            xh, yh = math.ceil(j / 2), math.ceil(i / 2)\n",
    "            if (xh > (width-1)) or yh > (height-1):\n",
    "                xh, yh = xl, yl\n",
    "            \n",
    "            lt = image[yl, xl]\n",
    "            rt = image[yl, xh]\n",
    "            lb = image[yh, xl]\n",
    "            rb = image[yh, xh]\n",
    "            \n",
    "            resized_image[i, j] = (lt + rt + lb + rb) / 4\n",
    "            \n",
    "    return resized_image"
   ]
  },
  {
   "cell_type": "code",
   "execution_count": 8,
   "metadata": {},
   "outputs": [],
   "source": [
    "imggg = np.random.randint(0, 10, (4, 4)).astype(np.float)"
   ]
  },
  {
   "cell_type": "code",
   "execution_count": 9,
   "metadata": {},
   "outputs": [
    {
     "data": {
      "text/plain": [
       "array([[8., 3., 2., 8.],\n",
       "       [0., 6., 5., 3.],\n",
       "       [3., 6., 3., 1.],\n",
       "       [3., 8., 5., 2.]])"
      ]
     },
     "execution_count": 9,
     "metadata": {},
     "output_type": "execute_result"
    }
   ],
   "source": [
    "imggg"
   ]
  },
  {
   "cell_type": "code",
   "execution_count": 10,
   "metadata": {},
   "outputs": [
    {
     "data": {
      "text/plain": [
       "array([[8.  , 5.5 , 3.  , 2.5 , 2.  , 5.  , 8.  , 8.  ],\n",
       "       [4.  , 4.25, 4.5 , 4.  , 3.5 , 4.5 , 5.5 , 8.  ],\n",
       "       [0.  , 3.  , 6.  , 5.5 , 5.  , 4.  , 3.  , 3.  ],\n",
       "       [1.5 , 3.75, 6.  , 5.  , 4.  , 3.  , 2.  , 3.  ],\n",
       "       [3.  , 4.5 , 6.  , 4.5 , 3.  , 2.  , 1.  , 1.  ],\n",
       "       [3.  , 5.  , 7.  , 5.5 , 4.  , 2.75, 1.5 , 1.  ],\n",
       "       [3.  , 5.5 , 8.  , 6.5 , 5.  , 3.5 , 2.  , 2.  ],\n",
       "       [3.  , 3.  , 8.  , 8.  , 5.  , 5.  , 2.  , 2.  ]])"
      ]
     },
     "execution_count": 10,
     "metadata": {},
     "output_type": "execute_result"
    }
   ],
   "source": [
    "x2_linear_upsample(imggg)"
   ]
  },
  {
   "cell_type": "code",
   "execution_count": null,
   "metadata": {},
   "outputs": [],
   "source": []
  }
 ],
 "metadata": {
  "kernelspec": {
   "display_name": "Python 3",
   "language": "python",
   "name": "python3"
  },
  "language_info": {
   "codemirror_mode": {
    "name": "ipython",
    "version": 3
   },
   "file_extension": ".py",
   "mimetype": "text/x-python",
   "name": "python",
   "nbconvert_exporter": "python",
   "pygments_lexer": "ipython3",
   "version": "3.8.5"
  }
 },
 "nbformat": 4,
 "nbformat_minor": 4
}
