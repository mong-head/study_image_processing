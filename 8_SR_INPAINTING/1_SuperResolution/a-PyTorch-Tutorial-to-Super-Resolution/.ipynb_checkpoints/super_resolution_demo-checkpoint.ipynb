{
 "cells": [
  {
   "cell_type": "code",
   "execution_count": 24,
   "metadata": {},
   "outputs": [],
   "source": [
    "import torch\n",
    "from utils import *\n",
    "from PIL import Image, ImageDraw, ImageFont\n",
    "import torchvision.transforms.functional as FT\n",
    "\n",
    "\"\"\"\n",
    "실습으로\n",
    "High resolution 이미지를\n",
    "low resolution 이미지로 바꾸고\n",
    "low resolution 이미지를 SRGAN으로 업 샘플링 진행\n",
    "그리고 추가로 다른 Upsample 방법과도 비교한다. (bilinear, bicubic 등등)\n",
    "\"\"\""
   ]
  },
  {
   "cell_type": "code",
   "execution_count": 21,
   "metadata": {},
   "outputs": [
    {
     "name": "stdout",
     "output_type": "stream",
     "text": [
      "\n"
     ]
    },
    {
     "name": "stderr",
     "output_type": "stream",
     "text": [
      "/Users/JaeBeome/anaconda3/lib/python3.6/site-packages/torch/serialization.py:649: SourceChangeWarning: source code of class 'torch.nn.modules.container.Sequential' has changed. you can retrieve the original source code by accessing the object's source attribute or set `torch.nn.Module.dump_patches = True` and use the patch tool to revert the changes.\n",
      "  warnings.warn(msg, SourceChangeWarning)\n",
      "/Users/JaeBeome/anaconda3/lib/python3.6/site-packages/torch/serialization.py:649: SourceChangeWarning: source code of class 'torch.nn.modules.conv.Conv2d' has changed. you can retrieve the original source code by accessing the object's source attribute or set `torch.nn.Module.dump_patches = True` and use the patch tool to revert the changes.\n",
      "  warnings.warn(msg, SourceChangeWarning)\n",
      "/Users/JaeBeome/anaconda3/lib/python3.6/site-packages/torch/serialization.py:649: SourceChangeWarning: source code of class 'torch.nn.modules.activation.PReLU' has changed. you can retrieve the original source code by accessing the object's source attribute or set `torch.nn.Module.dump_patches = True` and use the patch tool to revert the changes.\n",
      "  warnings.warn(msg, SourceChangeWarning)\n",
      "/Users/JaeBeome/anaconda3/lib/python3.6/site-packages/torch/serialization.py:649: SourceChangeWarning: source code of class 'torch.nn.modules.batchnorm.BatchNorm2d' has changed. you can retrieve the original source code by accessing the object's source attribute or set `torch.nn.Module.dump_patches = True` and use the patch tool to revert the changes.\n",
      "  warnings.warn(msg, SourceChangeWarning)\n",
      "/Users/JaeBeome/anaconda3/lib/python3.6/site-packages/torch/serialization.py:649: SourceChangeWarning: source code of class 'torch.nn.modules.pixelshuffle.PixelShuffle' has changed. you can retrieve the original source code by accessing the object's source attribute or set `torch.nn.Module.dump_patches = True` and use the patch tool to revert the changes.\n",
      "  warnings.warn(msg, SourceChangeWarning)\n",
      "/Users/JaeBeome/anaconda3/lib/python3.6/site-packages/torch/serialization.py:649: SourceChangeWarning: source code of class 'torch.nn.modules.activation.Tanh' has changed. you can retrieve the original source code by accessing the object's source attribute or set `torch.nn.Module.dump_patches = True` and use the patch tool to revert the changes.\n",
      "  warnings.warn(msg, SourceChangeWarning)\n",
      "/Users/JaeBeome/anaconda3/lib/python3.6/site-packages/torch/serialization.py:649: SourceChangeWarning: source code of class 'torch.nn.modules.activation.LeakyReLU' has changed. you can retrieve the original source code by accessing the object's source attribute or set `torch.nn.Module.dump_patches = True` and use the patch tool to revert the changes.\n",
      "  warnings.warn(msg, SourceChangeWarning)\n",
      "/Users/JaeBeome/anaconda3/lib/python3.6/site-packages/torch/serialization.py:649: SourceChangeWarning: source code of class 'torch.nn.modules.pooling.AdaptiveAvgPool2d' has changed. you can retrieve the original source code by accessing the object's source attribute or set `torch.nn.Module.dump_patches = True` and use the patch tool to revert the changes.\n",
      "  warnings.warn(msg, SourceChangeWarning)\n",
      "/Users/JaeBeome/anaconda3/lib/python3.6/site-packages/torch/serialization.py:649: SourceChangeWarning: source code of class 'torch.nn.modules.linear.Linear' has changed. you can retrieve the original source code by accessing the object's source attribute or set `torch.nn.Module.dump_patches = True` and use the patch tool to revert the changes.\n",
      "  warnings.warn(msg, SourceChangeWarning)\n"
     ]
    }
   ],
   "source": [
    "# load SRGAN\n",
    "srgan_checkpoint = \"./ckpt/checkpoint_srgan.pth.tar\"\n",
    "srgan_generator = torch.load(srgan_checkpoint, map_location='cpu')['generator'].to(device)\n",
    "srgan_generator.eval()\n",
    "print(\"\")"
   ]
  },
  {
   "cell_type": "code",
   "execution_count": 15,
   "metadata": {},
   "outputs": [],
   "source": [
    "import os\n",
    "from PIL import Image\n",
    "image_paths = os.listdir('./test_image')\n",
    "lr_img = Image.open(os.path.join('./test_image', image_paths[5]))"
   ]
  },
  {
   "cell_type": "code",
   "execution_count": 25,
   "metadata": {},
   "outputs": [],
   "source": [
    "def preprocess_image(img):\n",
    "    \"\"\"\n",
    "    Preprocess PIL image to Pytorch Tensor\n",
    "    \"\"\"\n",
    "    imagenet_mean = torch.FloatTensor([0.485, 0.456, 0.406]).unsqueeze(1).unsqueeze(2)\n",
    "    imagenet_std = torch.FloatTensor([0.229, 0.224, 0.225]).unsqueeze(1).unsqueeze(2)\n",
    "    imagenet_mean_cuda = torch.FloatTensor([0.485, 0.456, 0.406]).to(device).unsqueeze(0).unsqueeze(2).unsqueeze(3)\n",
    "    imagenet_std_cuda = torch.FloatTensor([0.229, 0.224, 0.225]).to(device).unsqueeze(0).unsqueeze(2).unsqueeze(3)\n",
    "    \n",
    "    img = FT.to_tensor(img)\n",
    "    if img.ndimension() == 3:\n",
    "        img = (img - imagenet_mean) / imagenet_std\n",
    "    elif img.ndimension() == 4:\n",
    "        img = (img - imagenet_mean_cuda) / imagenet_std_cuda\n",
    "        \n",
    "    return img\n",
    "\n",
    "\n",
    "def postprocess_tensor(img):\n",
    "    img = (img + 1.) / 2.\n",
    "    img = FT.to_pil_image(img)\n",
    "    return img\n",
    "    \n",
    "        "
   ]
  },
  {
   "cell_type": "code",
   "execution_count": 26,
   "metadata": {},
   "outputs": [],
   "source": [
    "input_img = preprocess_image(lr_img).unsqueeze(0).to(device)\n",
    "sr_img_srgan = srgan_generator(input_img)\n",
    "sr_img_srgan = sr_img_srgan.squeeze(0).cpu().detach()\n",
    "# sr_img_srgan = convert_image(sr_img_srgan, source='[-1, 1]', target='pil')\n",
    "sr_img_srgan = postprocess_tensor(sr_img_srgan)"
   ]
  },
  {
   "cell_type": "code",
   "execution_count": 27,
   "metadata": {},
   "outputs": [],
   "source": [
    "sr_img_srgan.save('./fake_.jpg')"
   ]
  },
  {
   "cell_type": "code",
   "execution_count": null,
   "metadata": {},
   "outputs": [],
   "source": [
    "# Load image, downsample to obtain low-res version\n",
    "hr_img = Image.open(img, mode=\"r\")\n",
    "hr_img = hr_img.convert('RGB')\n",
    "if halve:\n",
    "    hr_img = hr_img.resize((int(hr_img.width / 2), int(hr_img.height / 2)),\n",
    "                           Image.LANCZOS)\n",
    "lr_img = hr_img.resize((int(hr_img.width / 4), int(hr_img.height / 4)),\n",
    "                       Image.BICUBIC)"
   ]
  }
 ],
 "metadata": {
  "kernelspec": {
   "display_name": "Python 3",
   "language": "python",
   "name": "python3"
  },
  "language_info": {
   "codemirror_mode": {
    "name": "ipython",
    "version": 3
   },
   "file_extension": ".py",
   "mimetype": "text/x-python",
   "name": "python",
   "nbconvert_exporter": "python",
   "pygments_lexer": "ipython3",
   "version": "3.6.4"
  }
 },
 "nbformat": 4,
 "nbformat_minor": 2
}
