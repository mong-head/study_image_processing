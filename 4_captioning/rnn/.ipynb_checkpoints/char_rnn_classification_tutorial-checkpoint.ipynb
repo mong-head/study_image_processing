{
 "cells": [
  {
   "cell_type": "code",
   "execution_count": 17,
   "metadata": {
    "collapsed": false,
    "jupyter": {
     "outputs_hidden": false
    }
   },
   "outputs": [],
   "source": [
    "%matplotlib inline"
   ]
  },
  {
   "cell_type": "markdown",
   "metadata": {},
   "source": [
    "\n",
    "기초부터 시작하는 NLP: 문자-단위 RNN으로 이름 분류하기\n",
    "********************************************************************************\n",
    "**Author**: `Sean Robertson <https://github.com/spro/practical-pytorch>`_\n",
    "  **번역**: `황성수 <https://github.com/adonisues>`_\n",
    "\n",
    "\n",
    "단어를 분류하기 위해 기초적인 문자-단위 RNN을 구축하고 학습 할 예정입니다.\n",
    "이 튜토리얼에서는 (이후 2개 튜토리얼과 함께) NLP 모델링을 위한 데이터 전처리를\n",
    "`torchtext` 의 편리한 많은 기능들을 사용하지 않고 어떻게 하는지 \"기초부터(from scratch)\"\n",
    "보여주기 떄문에  NLP 모델링을 위한 전처리가 저수준에서 어떻게 진행되는지를 알 수 있습니다.\n",
    "문자-단위 RNN은 단어를 문자의 연속으로 읽어 들여서 각 단계의 예측과\n",
    "\"은닉 상태(Hidden State)\" 출력하고, 다음 단계에 이전 은닉 상태를 전달합니다.\n",
    "단어가 속한 클래스로 출력이 되도록 최종 예측으로 선택합니다.\n",
    "\n",
    "구체적으로, 18개 언어로 된 수천 개의 성(姓)을 훈련시키고,\n",
    "철자에 따라 이름이 어떤 언어인지 예측합니다:\n",
    "\n",
    "::\n",
    "\n",
    "    $ python predict.py Hinton\n",
    "    (-0.47) Scottish\n",
    "    (-1.52) English\n",
    "    (-3.57) Irish\n",
    "\n",
    "    $ python predict.py Schmidhuber\n",
    "    (-0.19) German\n",
    "    (-2.48) Czech\n",
    "    (-2.68) Dutch\n",
    "\n",
    "\n",
    "**추천 자료:**\n",
    "\n",
    "Pytorch를 설치했고, Python을 알고, Tensor를 이해한다고 가정합니다:\n",
    "\n",
    "-  https://pytorch.org/ 설치 안내\n",
    "-  :doc:`/beginner/deep_learning_60min_blitz` PyTorch 시작하기\n",
    "-  :doc:`/beginner/pytorch_with_examples` 넓고 깊은 통찰을 위한 자료\n",
    "-  :doc:`/beginner/former_torchies_tutorial` 이전 Lua Torch 사용자를 위한 자료\n",
    "\n",
    "RNN과 작동 방식을 아는 것 또한 유용합니다:\n",
    "\n",
    "-  `The Unreasonable Effectiveness of Recurrent Neural\n",
    "   Networks <https://karpathy.github.io/2015/05/21/rnn-effectiveness/>`__\n",
    "   실생활 예제를 보여 줍니다.\n",
    "-  `Understanding LSTM\n",
    "   Networks <https://colah.github.io/posts/2015-08-Understanding-LSTMs/>`__\n",
    "   LSTM에 관한 것이지만 RNN에 관해서도 유익합니다.\n",
    "\n",
    "데이터 준비\n",
    "==================\n",
    "\n",
    ".. NOTE::\n",
    "   `여기 <https://download.pytorch.org/tutorial/data.zip>`__ 에서 데이터를 다운 받고,\n",
    "   현재 디렉토리에 압축을 푸십시오.\n",
    "\n",
    "``data/names`` 디렉토리에는 \"[Language].txt\" 라는 18 개의 텍스트 파일이 있습니다.\n",
    "각 파일에는 한 줄에 하나의 이름이 포함되어 있으며 대부분 로마자로 되어 있습니다\n",
    "(그러나, 유니코드에서 ASCII로 변환해야 함).\n",
    "\n",
    "각 언어 별로 이름 목록 사전 ``{language: [names ...]}`` 을 만듭니다.\n",
    "일반 변수 \"category\" 와 \"line\" (우리의 경우 언어와 이름)은 이후의 확장성을 위해 사용됩니다.\n",
    "\n",
    ".. NOTE::\n",
    "역자 주:  \"line\" 에 입력을 \"category\"에 클래스를 적용하여 다른 문제에도 활용 할 수 있습니다.\n",
    "여기서는 \"line\"에 이름(ex. Robert )를 입력으로 \"category\"에 클래스(ex. english)로 사용합니다.\n",
    "\n"
   ]
  },
  {
   "cell_type": "code",
   "execution_count": 18,
   "metadata": {
    "collapsed": false,
    "jupyter": {
     "outputs_hidden": false
    }
   },
   "outputs": [
    {
     "name": "stdout",
     "output_type": "stream",
     "text": [
      "['sentiment/pos_tweets.txt', 'sentiment/neg_tweets.txt']\n",
      "Slusarski\n"
     ]
    }
   ],
   "source": [
    "from __future__ import unicode_literals, print_function, division\n",
    "from io import open\n",
    "import glob\n",
    "import os\n",
    "\n",
    "def findFiles(path): return glob.glob(path)\n",
    "\n",
    "print(findFiles('sentiment/*.txt'))\n",
    "\n",
    "import unicodedata\n",
    "import string\n",
    "\n",
    "all_letters = string.ascii_letters + \" .,;'\"\n",
    "n_letters = len(all_letters)\n",
    "\n",
    "# 유니코드 문자열을 ASCII로 변환, https://stackoverflow.com/a/518232/2809427\n",
    "def unicodeToAscii(s):\n",
    "    return ''.join(\n",
    "        c for c in unicodedata.normalize('NFD', s)\n",
    "        if unicodedata.category(c) != 'Mn'\n",
    "        and c in all_letters\n",
    "    )\n",
    "\n",
    "print(unicodeToAscii('Ślusàrski'))\n",
    "\n",
    "# 각 언어의 이름 목록인 category_lines 사전 생성\n",
    "category_lines = {}\n",
    "all_categories = []\n",
    "\n",
    "# 파일을 읽고 줄 단위로 분리\n",
    "def readLines(filename):\n",
    "    lines = open(filename, encoding='utf-8').read().strip().split('\\n')\n",
    "    return [unicodeToAscii(line) for line in lines]\n",
    "\n",
    "for filename in findFiles('sentiment/*.txt'):\n",
    "    category = os.path.splitext(os.path.basename(filename))[0]\n",
    "    all_categories.append(category)\n",
    "    lines = readLines(filename)\n",
    "    category_lines[category] = lines\n",
    "\n",
    "n_categories = len(all_categories)"
   ]
  },
  {
   "cell_type": "markdown",
   "metadata": {},
   "source": [
    "이제 각 ``category`` (언어)를 ``line`` (이름)에 매핑하는 사전인\n",
    "``category_lines`` 를 만들었습니다. 나중에 참조 할 수 있도록\n",
    "``all_categories`` (언어 목록)와 ``n_categories`` 도 추적합니다.\n",
    "\n",
    "\n"
   ]
  },
  {
   "cell_type": "code",
   "execution_count": 20,
   "metadata": {
    "collapsed": false,
    "jupyter": {
     "outputs_hidden": false
    }
   },
   "outputs": [
    {
     "name": "stdout",
     "output_type": "stream",
     "text": [
      "[\" I cheer myself up when I'm down by listening to my playlist called, Genius Ballads and Cellos. I love my iPod and my taste of music.\", ' just watched the movie Wanted... it was pretty darn good.', \" now I'm happy \", \"plotting like i'm mike..'game planpass the ball to lebron AT ALL TIMES and DONT FOUL'..certainly we'll win  haha..go cavs goooo\", ' mcdonalds with my litto sis aka cuzin lol cristyyyyy ']\n"
     ]
    }
   ],
   "source": [
    "print(category_lines['pos_tweets'][:5])"
   ]
  },
  {
   "cell_type": "markdown",
   "metadata": {},
   "source": [
    "이름을 Tensor로 변경\n",
    "--------------------------\n",
    "\n",
    "이제 모든 이름을 체계화 했으므로, 이를 활용하기 위해 Tensor로\n",
    "전환해야 합니다.\n",
    "\n",
    "하나의 문자를 표현하기 위해, 크기가 ``<1 x n_letters>`` 인\n",
    "\"One-Hot 벡터\" 를 사용합니다. One-Hot 벡터는 현재 문자의\n",
    "주소에만 1을 값으로 가지고 그외에 나머지는 0으로 채워진다.\n",
    "예시 ``\"b\" = <0 1 0 0 0 ...>`` .\n",
    "\n",
    "단어를 만들기 위해 One-Hot 벡터들을 2 차원 행렬\n",
    "``<line_length x 1 x n_letters>`` 에 결합시킵니다.\n",
    "\n",
    "위에서 보이는 추가적인 1차원은 PyTorch에서 모든 것이 배치(batch)에 있다고 가정하기\n",
    "때문에 발생합니다. 여기서는 배치 크기 1을 사용하고 있습니다.\n",
    "\n",
    "\n"
   ]
  },
  {
   "cell_type": "code",
   "execution_count": 21,
   "metadata": {
    "collapsed": false,
    "jupyter": {
     "outputs_hidden": false
    }
   },
   "outputs": [
    {
     "name": "stdout",
     "output_type": "stream",
     "text": [
      "tensor([[0., 0., 0., 0., 0., 0., 0., 0., 0., 0., 0., 0., 0., 0., 0., 0., 0., 0.,\n",
      "         0., 0., 0., 0., 0., 0., 0., 0., 0., 0., 0., 0., 0., 0., 0., 0., 0., 1.,\n",
      "         0., 0., 0., 0., 0., 0., 0., 0., 0., 0., 0., 0., 0., 0., 0., 0., 0., 0.,\n",
      "         0., 0., 0.]])\n",
      "torch.Size([5, 1, 57])\n"
     ]
    }
   ],
   "source": [
    "'''\n",
    ".. NOTE::\n",
    "역자 주:  One-Hot 벡터는 언어를 다룰 때 자주 이용되며,\n",
    "단어,글자 등을 벡터로 표현 할 때 단어,글자 사이의 상관 관계를 미리 알 수 없을 경우,\n",
    "One-Hot으로 표현하여 서로 직교한다고 가정하고 학습을 시작합니다.\n",
    "동일하게 상관 관계를 알 수 없는 다른 데이터의 경우에도 One-Hot 벡터를 활용 할 수 있습니다.\n",
    "'''\n",
    "\n",
    "import torch\n",
    "\n",
    "# all_letters 로 문자의 주소 찾기, 예시 \"a\" = 0\n",
    "def letterToIndex(letter):\n",
    "    return all_letters.find(letter)\n",
    "\n",
    "# 검증을 위해서 한개의 문자를 <1 x n_letters> Tensor로 변환\n",
    "def letterToTensor(letter):\n",
    "    tensor = torch.zeros(1, n_letters)\n",
    "    tensor[0][letterToIndex(letter)] = 1\n",
    "    return tensor\n",
    "\n",
    "# 한 줄(이름)을  <line_length x 1 x n_letters>,\n",
    "# 또는 One-Hot 문자 벡터의 Array로 변경\n",
    "def lineToTensor(line):\n",
    "    tensor = torch.zeros(len(line), 1, n_letters)\n",
    "    for li, letter in enumerate(line):\n",
    "        tensor[li][0][letterToIndex(letter)] = 1\n",
    "    return tensor\n",
    "\n",
    "print(letterToTensor('J'))\n",
    "\n",
    "print(lineToTensor('Jones').size())"
   ]
  },
  {
   "cell_type": "markdown",
   "metadata": {},
   "source": [
    "네트워크 생성\n",
    "====================\n",
    "\n",
    "Autograd 전에, Torch에서 RNN(recurrent neural network) 생성은\n",
    "여러 시간 단계 걸처서 계층의 매개변수를 복제하는 작업을 포함합니다.\n",
    "계층은 은닉 상태와 변화도(Gradient)를 가지며, 이제 이것들은 그래프 자체에서\n",
    "완전히 처리되는 됩니다. 이는 feed-forward 계층과\n",
    "같은 매우 \"순수한\" 방법으로 RNN을 구현할 수 있다는 것을 의미합니다.\n",
    "\n",
    "역자 주 : 여기서는 교육목적으로 nn.RNN 대신 직접 RNN을 사용합니다.\n",
    "\n",
    "이 RNN 모듈(대부분 `Torch 사용자를 위한 PyTorch 튜토리얼\n",
    "<https://pytorch.org/tutorials/beginner/former_torchies/\n",
    "nn_tutorial.html#example-2-recurrent-net>`__ 에서 복사함)\n",
    "은 입력 및 은닉 상태로 작동하는 2개의 선형 계층이며,\n",
    "출력 다음에 LogSoftmax 계층이 있습니다.\n",
    "\n",
    ".. figure:: https://i.imgur.com/Z2xbySO.png\n",
    "   :alt:\n",
    "\n",
    "\n",
    "\n"
   ]
  },
  {
   "cell_type": "code",
   "execution_count": 22,
   "metadata": {
    "collapsed": false,
    "jupyter": {
     "outputs_hidden": false
    }
   },
   "outputs": [],
   "source": [
    "import torch.nn as nn\n",
    "\n",
    "class RNN(nn.Module):\n",
    "    def __init__(self, input_size, hidden_size, output_size):\n",
    "        super(RNN, self).__init__()\n",
    "\n",
    "        self.hidden_size = hidden_size\n",
    "\n",
    "        self.i2h = nn.Linear(input_size + hidden_size, hidden_size)\n",
    "        self.i2o = nn.Linear(input_size + hidden_size, output_size)\n",
    "        self.softmax = nn.LogSoftmax(dim=1)\n",
    "\n",
    "    def forward(self, input, hidden):\n",
    "        combined = torch.cat((input, hidden), 1)\n",
    "        hidden = self.i2h(combined)\n",
    "        output = self.i2o(combined)\n",
    "        output = self.softmax(output)\n",
    "        return output, hidden\n",
    "\n",
    "    def initHidden(self):\n",
    "        return torch.zeros(1, self.hidden_size)\n",
    "\n",
    "n_hidden = 128\n",
    "rnn = RNN(n_letters, n_hidden, n_categories)"
   ]
  },
  {
   "cell_type": "markdown",
   "metadata": {},
   "source": [
    "이 네트워크의 한 단계를 실행하려면 입력(현재 문자 Tensor)과\n",
    "이전의 은닉 상태 (처음에는 0으로 초기화)를 전달해야 합니다.\n",
    "출력(각 언어의 확률)과 다음 은닉 상태 (다음 단계를 위해 유지)를\n",
    "돌려 받습니다.\n",
    "\n",
    "\n"
   ]
  },
  {
   "cell_type": "code",
   "execution_count": 23,
   "metadata": {
    "collapsed": false,
    "jupyter": {
     "outputs_hidden": false
    }
   },
   "outputs": [],
   "source": [
    "input = letterToTensor('A')\n",
    "hidden =torch.zeros(1, n_hidden)\n",
    "\n",
    "output, next_hidden = rnn(input, hidden)"
   ]
  },
  {
   "cell_type": "markdown",
   "metadata": {},
   "source": [
    "효율성을 위해서 매 단계마다 새로운 Tensor를 만들고 싶지 않기 때문에\n",
    "``letterToTensor`` 대신 ``lineToTensor`` 를 잘라서 사용할\n",
    "것입니다. 이것은 Tensor의 사전 연산(pre-computing) 배치에 의해\n",
    "더욱 최적화 될 수 있습니다.\n",
    "\n",
    "\n"
   ]
  },
  {
   "cell_type": "code",
   "execution_count": 24,
   "metadata": {
    "collapsed": false,
    "jupyter": {
     "outputs_hidden": false
    }
   },
   "outputs": [
    {
     "name": "stdout",
     "output_type": "stream",
     "text": [
      "tensor([[-0.7012, -0.6852]], grad_fn=<LogSoftmaxBackward>)\n"
     ]
    }
   ],
   "source": [
    "input = lineToTensor('Albert')\n",
    "hidden = torch.zeros(1, n_hidden)\n",
    "\n",
    "output, next_hidden = rnn(input[0], hidden)\n",
    "print(output)"
   ]
  },
  {
   "cell_type": "markdown",
   "metadata": {},
   "source": [
    "보시다시피 출력은 ``<1 x n_categories>`` Tensor이고, 모든 항목은\n",
    "해당 카테고리의 우도(likelihood) 입니다 (더 높은 것이 더 확률 높음).\n",
    "\n",
    "\n"
   ]
  },
  {
   "cell_type": "markdown",
   "metadata": {},
   "source": [
    "학습\n",
    "========\n",
    "학습 준비\n",
    "----------------------\n",
    "\n",
    "학습으로 들어가기 전에 몇몇 도움되는 함수를 만들어야합니다.\n",
    "첫째는 우리가 알아낸 각 카테고리의 우도인 네트워크 출력을 해석하는 것 입니다.\n",
    "가장 큰 값의 주소를 알기 위해서 ``Tensor.topk`` 를 사용 할 수 있습니다.\n",
    "역자 주: 네트워크 출력(각 카테고리의 우도)으로\n",
    "가장 확률이 높은 카테고리 이름(언어)과 카테고리 번호 반환\n",
    "\n",
    "\n"
   ]
  },
  {
   "cell_type": "code",
   "execution_count": 25,
   "metadata": {
    "collapsed": false,
    "jupyter": {
     "outputs_hidden": false
    }
   },
   "outputs": [
    {
     "name": "stdout",
     "output_type": "stream",
     "text": [
      "('neg_tweets', 1)\n"
     ]
    }
   ],
   "source": [
    "def categoryFromOutput(output):\n",
    "    top_n, top_i = output.topk(1) # 텐서의 가장 큰 값 및 주소\n",
    "    category_i = top_i[0].item()     # 텐서에서 정수 값으로 변경\n",
    "    return all_categories[category_i], category_i\n",
    "\n",
    "print(categoryFromOutput(output))"
   ]
  },
  {
   "cell_type": "markdown",
   "metadata": {},
   "source": [
    "학습 예시(하나의 이름과 그 언어)를 얻는 빠른 방법도 필요합니다.:\n",
    "\n",
    "\n"
   ]
  },
  {
   "cell_type": "code",
   "execution_count": 26,
   "metadata": {
    "collapsed": false,
    "jupyter": {
     "outputs_hidden": false
    }
   },
   "outputs": [
    {
     "name": "stdout",
     "output_type": "stream",
     "text": [
      "category = pos_tweets / line = Let's Go Lakers  Kick em in the Nuggs haha.\n",
      "category = neg_tweets / line = Still doing my homework \n",
      "category = pos_tweets / line = BradmanTV Thanks....it seemed the right moment. I love your show.  Your songs bring me joy.\n",
      "category = neg_tweets / line = melissaohh yeh. he had cancer didnt he \n",
      "category = neg_tweets / line = and the labtop just got messed up now i cant look at the lessons and tips i hope the psp can go to the website \n",
      "category = neg_tweets / line = I finally found iPod headphones that are meant for apple. they're madddd loud.  days \n",
      "category = neg_tweets / line = hillaryrachel oh i know how you feel. i took a leap of faith and asked Taylor Swift to be my BFFL ... she didnt reply \n",
      "category = pos_tweets / line = DJTinaSapp Ha I'll get it back to you as soon as possible \n",
      "category = neg_tweets / line = jessgirl I still feel like crap. The fever is alive and well. \n",
      "category = neg_tweets / line = Vicstar   Game's over.. Screw the Lakers\n"
     ]
    }
   ],
   "source": [
    "import random\n",
    "\n",
    "def randomChoice(l):\n",
    "    return l[random.randint(0, len(l) - 1)]\n",
    "\n",
    "def randomTrainingExample():\n",
    "    category = randomChoice(all_categories)\n",
    "    line = randomChoice(category_lines[category])\n",
    "    category_tensor = torch.tensor([all_categories.index(category)], dtype=torch.long)\n",
    "    line_tensor = lineToTensor(line)\n",
    "    return category, line, category_tensor, line_tensor\n",
    "\n",
    "for i in range(10):\n",
    "    category, line, category_tensor, line_tensor = randomTrainingExample()\n",
    "    print('category =', category, '/ line =', line)"
   ]
  },
  {
   "cell_type": "markdown",
   "metadata": {},
   "source": [
    "네트워크 학습\n",
    "--------------------\n",
    "\n",
    "이제 이 네트워크를 학습하는데 필요한 예시(학습 데이터)들을 보여주고 추정합니다.\n",
    "만일 틀렸다면 알려 줍니다.\n",
    "\n",
    "RNN의 마지막 계층이 ``nn.LogSoftmax`` 이므로 손실 함수로\n",
    "``nn.NLLLoss`` 가 적합합니다.\n",
    "\n",
    "\n"
   ]
  },
  {
   "cell_type": "code",
   "execution_count": 27,
   "metadata": {
    "collapsed": false,
    "jupyter": {
     "outputs_hidden": false
    }
   },
   "outputs": [],
   "source": [
    "criterion = nn.NLLLoss()"
   ]
  },
  {
   "cell_type": "markdown",
   "metadata": {},
   "source": [
    "각 학습 루프는 다음과 같습니다:\n",
    "\n",
    "-  입력과 목표 Tensor 생성\n",
    "-  0 로 초기화된 은닉 상태 생성\n",
    "-  각 문자를 읽기\n",
    "\n",
    "   -  다음 문자를 위한 은닉 상태 유지\n",
    "\n",
    "-  목표와 최종 출력 비교\n",
    "-  역전파\n",
    "-  출력과 손실 반환\n",
    "\n",
    "\n"
   ]
  },
  {
   "cell_type": "code",
   "execution_count": 28,
   "metadata": {
    "collapsed": false,
    "jupyter": {
     "outputs_hidden": false
    }
   },
   "outputs": [],
   "source": [
    "learning_rate = 0.005 # 이것을 너무 높게 설정하면 발산할 수 있고, 너무 낮으면 학습이 되지 않을 수 있습니다.\n",
    "\n",
    "def train(category_tensor, line_tensor):\n",
    "    hidden = rnn.initHidden()\n",
    "\n",
    "    rnn.zero_grad()\n",
    "\n",
    "    for i in range(line_tensor.size()[0]):\n",
    "        output, hidden = rnn(line_tensor[i], hidden)\n",
    "\n",
    "    loss = criterion(output, category_tensor)\n",
    "    loss.backward()\n",
    "\n",
    "    # 매개변수의 경사도에 학습률을 곱해서 그 매개변수의 값에 더합니다.\n",
    "    for p in rnn.parameters():\n",
    "        p.data.add_(p.grad.data, alpha=-learning_rate)\n",
    "\n",
    "    return output, loss.item()"
   ]
  },
  {
   "cell_type": "markdown",
   "metadata": {},
   "source": [
    "이제 예시 데이터를 사용하여 실행해야합니다. ``train`` 함수가 출력과 손실을\n",
    "반환하기 때문에 추측을 화면에 출력하고 도식화를 위한 손실을 추적 할 수\n",
    "있습니다. 1000개의 예시 데이터가 있기 때문에 ``print_every`` 예제만\n",
    "출력하고, 손실의 평균을 얻습니다.\n",
    "\n",
    "\n"
   ]
  },
  {
   "cell_type": "code",
   "execution_count": 29,
   "metadata": {
    "collapsed": false,
    "jupyter": {
     "outputs_hidden": false
    }
   },
   "outputs": [
    {
     "name": "stdout",
     "output_type": "stream",
     "text": [
      "5000 5% (2m 4s) 0.6136 Morning Tweetland, a long day ahead Hope everyone has a great day   / pos_tweets ✓\n",
      "10000 10% (3m 38s) 0.4695 laying in bed with no voice..  / neg_tweets ✓\n",
      "15000 15% (5m 41s) 0.4017 No Lebron Kobe finals like we hoped for grrrr  / neg_tweets ✓\n",
      "20000 20% (7m 6s) 0.5477 Doing Beat the Bridge race in Seattle this morning Should b beautiful  / pos_tweets ✓\n",
      "25000 25% (8m 44s) nan is at work and saddened due to Ted Baker London not being able to ship to the continental US  I want the hat / pos_tweets ✗ (neg_tweets)\n",
      "30000 30% (10m 22s) nan PrincessSuperC Cavs down by   mins left... just in case u arent watching.. its over for Lebron  / pos_tweets ✗ (neg_tweets)\n",
      "35000 35% (11m 41s) nan Missing My BFF  watching home and away it reminds me of her and me  we  / pos_tweets ✗ (neg_tweets)\n",
      "40000 40% (12m 56s) nan Jonasbrothers Nice skillz Nick  x love always, Marjorie  / pos_tweets ✓\n",
      "45000 45% (14m 13s) nan Now on park and ride bus back to my car but haven't got my Ipod today  / pos_tweets ✗ (neg_tweets)\n",
      "50000 50% (15m 35s) nan Today is National Cancer Survivors Day Congratulations today is a celebration woohoo  / pos_tweets ✓\n",
      "55000 55% (16m 48s) nan also, SOOOOO excited to see Taylor Swift, in Omaha, August th  / pos_tweets ✓\n",
      "60000 60% (18m 5s) nan Long night I feel terrible because I didn't eat before I went to work Headache, muscle aches, and an all over  / pos_tweets ✗ (neg_tweets)\n",
      "65000 65% (19m 42s) nan Is going to Vegas but wanting to go to Seattle  / pos_tweets ✗ (neg_tweets)\n",
      "70000 70% (21m 18s) nan FoxxFiles nah...The Cavs are done  Go Magic / pos_tweets ✓\n",
      "75000 75% (22m 40s) nan gilbirmingham Gil I'm sorry you won't get to Sydney as well next week for Supernova  you're only going to Perth, is that correct / pos_tweets ✗ (neg_tweets)\n",
      "80000 80% (24m 7s) nan Seattle is sunny atm.   Need to go take advantage of it before it rains again.   I'm outta here for a bit..    / pos_tweets ✓\n",
      "85000 85% (25m 27s) nan IN DESPERATE NEED FOR IPHONE MONEY srsly, me needs a phone that works   AND ITUNES MONEY O / pos_tweets ✗ (neg_tweets)\n",
      "90000 90% (26m 43s) nan It's no longer sunny in Seattle.  httptr.imsunnyinseattle / pos_tweets ✗ (neg_tweets)\n",
      "95000 95% (28m 35s) nan VerseTheVillain No problem Sad thing is I can't listen to it 'cause my phone won't load the player  is it in YouTube form or will it be / pos_tweets ✗ (neg_tweets)\n",
      "100000 100% (30m 8s) nan just got home from watching Michigan State get tromped    / pos_tweets ✗ (neg_tweets)\n"
     ]
    }
   ],
   "source": [
    "import time\n",
    "import math\n",
    "\n",
    "n_iters = 100000\n",
    "print_every = 5000\n",
    "plot_every = 1000\n",
    "\n",
    "\n",
    "\n",
    "# 도식화를 위한 손실 추적\n",
    "current_loss = 0\n",
    "all_losses = []\n",
    "\n",
    "def timeSince(since):\n",
    "    now = time.time()\n",
    "    s = now - since\n",
    "    m = math.floor(s / 60)\n",
    "    s -= m * 60\n",
    "    return '%dm %ds' % (m, s)\n",
    "\n",
    "start = time.time()\n",
    "\n",
    "for iter in range(1, n_iters + 1):\n",
    "    category, line, category_tensor, line_tensor = randomTrainingExample()\n",
    "    output, loss = train(category_tensor, line_tensor)\n",
    "    current_loss += loss\n",
    "\n",
    "    # iter 숫자, 손실, 이름, 추측 화면 출력\n",
    "    if iter % print_every == 0:\n",
    "        guess, guess_i = categoryFromOutput(output)\n",
    "        correct = '✓' if guess == category else '✗ (%s)' % category\n",
    "        print('%d %d%% (%s) %.4f %s / %s %s' % (iter, iter / n_iters * 100, timeSince(start), loss, line, guess, correct))\n",
    "\n",
    "    # 현재 평균 손실을 전체 손실 리스트에 추가\n",
    "    if iter % plot_every == 0:\n",
    "        all_losses.append(current_loss / plot_every)\n",
    "        current_loss = 0"
   ]
  },
  {
   "cell_type": "markdown",
   "metadata": {},
   "source": [
    "결과 도식화\n",
    "--------------------\n",
    "\n",
    "``all_losses`` 를 이용한 손실 도식화는\n",
    "네트워크의 학습을 보여준다:\n",
    "\n",
    "\n"
   ]
  },
  {
   "cell_type": "code",
   "execution_count": 33,
   "metadata": {
    "collapsed": false,
    "jupyter": {
     "outputs_hidden": false
    }
   },
   "outputs": [
    {
     "data": {
      "text/plain": [
       "[<matplotlib.lines.Line2D at 0x1078fe898>]"
      ]
     },
     "execution_count": 33,
     "metadata": {},
     "output_type": "execute_result"
    },
    {
     "data": {
      "image/png": "[encoded data removed]",
      "text/plain": [
       "<Figure size 432x288 with 1 Axes>"
      ]
     },
     "metadata": {},
     "output_type": "display_data"
    }
   ],
   "source": [
    "import matplotlib.pyplot as plt\n",
    "import matplotlib.ticker as ticker\n",
    "\n",
    "plt.figure()\n",
    "plt.plot(all_losses)"
   ]
  },
  {
   "cell_type": "markdown",
   "metadata": {},
   "source": [
    "결과 평가\n",
    "======================\n",
    "\n",
    "네트워크가 다른 카테고리에서 얼마나 잘 작동하는지 보기위해\n",
    "모든 실제 언어(행)가 네트워크에서 어떤 언어로 추측(열)되는지를 나타내는\n",
    "혼란 행열(confusion matrix)을 만듭니다. 혼란 행렬을 계산하기 위해\n",
    "``evaluate()`` 로 많은 수의 샘플을 네트워크에 실행합니다.\n",
    "``evaluate()`` 은 ``train ()`` 과 역전파를 빼면 동일합니다.\n",
    "\n",
    "\n"
   ]
  },
  {
   "cell_type": "code",
   "execution_count": 32,
   "metadata": {
    "collapsed": false,
    "jupyter": {
     "outputs_hidden": false
    }
   },
   "outputs": [
    {
     "ename": "NameError",
     "evalue": "name 'plt' is not defined",
     "output_type": "error",
     "traceback": [
      "\u001b[0;31m---------------------------------------------------------------------------\u001b[0m",
      "\u001b[0;31mNameError\u001b[0m                                 Traceback (most recent call last)",
      "\u001b[0;32m<ipython-input-32-dd97d7c57743>\u001b[0m in \u001b[0;36m<module>\u001b[0;34m()\u001b[0m\n\u001b[1;32m     25\u001b[0m \u001b[0;34m\u001b[0m\u001b[0m\n\u001b[1;32m     26\u001b[0m \u001b[0;31m# 도식 설정\u001b[0m\u001b[0;34m\u001b[0m\u001b[0;34m\u001b[0m\u001b[0m\n\u001b[0;32m---> 27\u001b[0;31m \u001b[0mfig\u001b[0m \u001b[0;34m=\u001b[0m \u001b[0mplt\u001b[0m\u001b[0;34m.\u001b[0m\u001b[0mfigure\u001b[0m\u001b[0;34m(\u001b[0m\u001b[0;34m)\u001b[0m\u001b[0;34m\u001b[0m\u001b[0m\n\u001b[0m\u001b[1;32m     28\u001b[0m \u001b[0max\u001b[0m \u001b[0;34m=\u001b[0m \u001b[0mfig\u001b[0m\u001b[0;34m.\u001b[0m\u001b[0madd_subplot\u001b[0m\u001b[0;34m(\u001b[0m\u001b[0;36m111\u001b[0m\u001b[0;34m)\u001b[0m\u001b[0;34m\u001b[0m\u001b[0m\n\u001b[1;32m     29\u001b[0m \u001b[0mcax\u001b[0m \u001b[0;34m=\u001b[0m \u001b[0max\u001b[0m\u001b[0;34m.\u001b[0m\u001b[0mmatshow\u001b[0m\u001b[0;34m(\u001b[0m\u001b[0mconfusion\u001b[0m\u001b[0;34m.\u001b[0m\u001b[0mnumpy\u001b[0m\u001b[0;34m(\u001b[0m\u001b[0;34m)\u001b[0m\u001b[0;34m)\u001b[0m\u001b[0;34m\u001b[0m\u001b[0m\n",
      "\u001b[0;31mNameError\u001b[0m: name 'plt' is not defined"
     ]
    }
   ],
   "source": [
    "# 혼란 행렬에서 정확한 추측을 추적\n",
    "confusion = torch.zeros(n_categories, n_categories)\n",
    "n_confusion = 10000\n",
    "\n",
    "# 주어진 라인의 출력 반환\n",
    "def evaluate(line_tensor):\n",
    "    hidden = rnn.initHidden()\n",
    "\n",
    "    for i in range(line_tensor.size()[0]):\n",
    "        output, hidden = rnn(line_tensor[i], hidden)\n",
    "\n",
    "    return output\n",
    "\n",
    "# 예시들 중에 어떤 것이 정확하게 예측되었는지 기록\n",
    "for i in range(n_confusion):\n",
    "    category, line, category_tensor, line_tensor = randomTrainingExample()\n",
    "    output = evaluate(line_tensor)\n",
    "    guess, guess_i = categoryFromOutput(output)\n",
    "    category_i = all_categories.index(category)\n",
    "    confusion[category_i][guess_i] += 1\n",
    "\n",
    "# 모든 행을 합계로 나누어 정규화\n",
    "for i in range(n_categories):\n",
    "    confusion[i] = confusion[i] / confusion[i].sum()\n",
    "\n",
    "# 도식 설정\n",
    "fig = plt.figure()\n",
    "ax = fig.add_subplot(111)\n",
    "cax = ax.matshow(confusion.numpy())\n",
    "fig.colorbar(cax)\n",
    "\n",
    "# 축 설정\n",
    "ax.set_xticklabels([''] + all_categories, rotation=90)\n",
    "ax.set_yticklabels([''] + all_categories)\n",
    "\n",
    "# 모든 tick에서 레이블 지정\n",
    "ax.xaxis.set_major_locator(ticker.MultipleLocator(1))\n",
    "ax.yaxis.set_major_locator(ticker.MultipleLocator(1))\n",
    "\n",
    "# sphinx_gallery_thumbnail_number = 2\n",
    "plt.show()"
   ]
  },
  {
   "cell_type": "code",
   "execution_count": 34,
   "metadata": {
    "jupyter": {
     "source_hidden": true
    }
   },
   "outputs": [
    {
     "data": {
      "image/png": "[encoded data removed]",
      "text/plain": [
       "<Figure size 432x288 with 2 Axes>"
      ]
     },
     "metadata": {},
     "output_type": "display_data"
    }
   ],
   "source": []
  },
  {
   "cell_type": "markdown",
   "metadata": {},
   "source": [
    "주축에서 벗어난 밝은 점을 선택하여 잘못 추측한 언어를 표시\n",
    "할 수 있습니다. 예를 들어 한국어는 중국어로 이탈리아어로 스페인어로.\n",
    "그리스어는 매우 잘되는 것으로 영어는 매우 나쁜것으로 보입니다.\n",
    "(다른 언어들과 중첩 때문으로 추정)\n",
    "\n",
    "\n"
   ]
  },
  {
   "cell_type": "markdown",
   "metadata": {},
   "source": [
    "사용자 입력으로 실행\n",
    "---------------------\n",
    "\n",
    "\n"
   ]
  },
  {
   "cell_type": "code",
   "execution_count": 35,
   "metadata": {
    "collapsed": false,
    "jupyter": {
     "outputs_hidden": false
    }
   },
   "outputs": [
    {
     "name": "stdout",
     "output_type": "stream",
     "text": [
      "\n",
      "> Dovesky\n"
     ]
    },
    {
     "ename": "RuntimeError",
     "evalue": "selected index k out of range",
     "output_type": "error",
     "traceback": [
      "\u001b[0;31m---------------------------------------------------------------------------\u001b[0m",
      "\u001b[0;31mRuntimeError\u001b[0m                              Traceback (most recent call last)",
      "\u001b[0;32m<ipython-input-35-cd7dc16e783d>\u001b[0m in \u001b[0;36m<module>\u001b[0;34m()\u001b[0m\n\u001b[1;32m     14\u001b[0m             \u001b[0mpredictions\u001b[0m\u001b[0;34m.\u001b[0m\u001b[0mappend\u001b[0m\u001b[0;34m(\u001b[0m\u001b[0;34m[\u001b[0m\u001b[0mvalue\u001b[0m\u001b[0;34m,\u001b[0m \u001b[0mall_categories\u001b[0m\u001b[0;34m[\u001b[0m\u001b[0mcategory_index\u001b[0m\u001b[0;34m]\u001b[0m\u001b[0;34m]\u001b[0m\u001b[0;34m)\u001b[0m\u001b[0;34m\u001b[0m\u001b[0m\n\u001b[1;32m     15\u001b[0m \u001b[0;34m\u001b[0m\u001b[0m\n\u001b[0;32m---> 16\u001b[0;31m \u001b[0mpredict\u001b[0m\u001b[0;34m(\u001b[0m\u001b[0;34m'Dovesky'\u001b[0m\u001b[0;34m)\u001b[0m\u001b[0;34m\u001b[0m\u001b[0m\n\u001b[0m\u001b[1;32m     17\u001b[0m \u001b[0mpredict\u001b[0m\u001b[0;34m(\u001b[0m\u001b[0;34m'Jackson'\u001b[0m\u001b[0;34m)\u001b[0m\u001b[0;34m\u001b[0m\u001b[0m\n\u001b[1;32m     18\u001b[0m \u001b[0mpredict\u001b[0m\u001b[0;34m(\u001b[0m\u001b[0;34m'Satoshi'\u001b[0m\u001b[0;34m)\u001b[0m\u001b[0;34m\u001b[0m\u001b[0m\n",
      "\u001b[0;32m<ipython-input-35-cd7dc16e783d>\u001b[0m in \u001b[0;36mpredict\u001b[0;34m(input_line, n_predictions)\u001b[0m\n\u001b[1;32m      5\u001b[0m \u001b[0;34m\u001b[0m\u001b[0m\n\u001b[1;32m      6\u001b[0m         \u001b[0;31m# Get top N categories\u001b[0m\u001b[0;34m\u001b[0m\u001b[0;34m\u001b[0m\u001b[0m\n\u001b[0;32m----> 7\u001b[0;31m         \u001b[0mtopv\u001b[0m\u001b[0;34m,\u001b[0m \u001b[0mtopi\u001b[0m \u001b[0;34m=\u001b[0m \u001b[0moutput\u001b[0m\u001b[0;34m.\u001b[0m\u001b[0mtopk\u001b[0m\u001b[0;34m(\u001b[0m\u001b[0mn_predictions\u001b[0m\u001b[0;34m,\u001b[0m \u001b[0;36m1\u001b[0m\u001b[0;34m,\u001b[0m \u001b[0;32mTrue\u001b[0m\u001b[0;34m)\u001b[0m\u001b[0;34m\u001b[0m\u001b[0m\n\u001b[0m\u001b[1;32m      8\u001b[0m         \u001b[0mpredictions\u001b[0m \u001b[0;34m=\u001b[0m \u001b[0;34m[\u001b[0m\u001b[0;34m]\u001b[0m\u001b[0;34m\u001b[0m\u001b[0m\n\u001b[1;32m      9\u001b[0m \u001b[0;34m\u001b[0m\u001b[0m\n",
      "\u001b[0;31mRuntimeError\u001b[0m: selected index k out of range"
     ]
    }
   ],
   "source": [
    "def predict(input_line, n_predictions=3):\n",
    "    print('\\n> %s' % input_line)\n",
    "    with torch.no_grad():\n",
    "        output = evaluate(lineToTensor(input_line))\n",
    "\n",
    "        # Get top N categories\n",
    "        topv, topi = output.topk(n_predictions, 1, True)\n",
    "        predictions = []\n",
    "\n",
    "        for i in range(n_predictions):\n",
    "            value = topv[0][i].item()\n",
    "            category_index = topi[0][i].item()\n",
    "            print('(%.2f) %s' % (value, all_categories[category_index]))\n",
    "            predictions.append([value, all_categories[category_index]])\n",
    "\n",
    "predict('Dovesky', n_predictions=2)\n",
    "predict('Jackson', n_predictions=2)\n",
    "predict('Satoshi', n_predictions=2)"
   ]
  },
  {
   "cell_type": "markdown",
   "metadata": {},
   "source": [
    "`실용 PyTorch 저장소\n",
    "<https://github.com/spro/practical-pytorch/tree/master/char-rnn-classification>`__\n",
    "의 최종 버전 스크립트는 위 코드를 몇개의 파일로 분할했습니다.:\n",
    "\n",
    "-  ``data.py`` (파일 읽기)\n",
    "-  ``model.py`` (RNN 정의)\n",
    "-  ``train.py`` (학습 실행)\n",
    "-  ``predict.py`` (커멘드 라인 인자로 ``predict()`` 실행)\n",
    "-  ``server.py`` (bottle.py를 사용하여 JSON API로 예측 제공)\n",
    "\n",
    "학습과 네트워크 저장을 위해 ``train.py`` 실행.\n",
    "\n",
    "이름으로 예측을 보기 위해 ``predict.py`` 실행:\n",
    "\n",
    "::\n",
    "\n",
    "    $ python predict.py Hazaki\n",
    "    (-0.42) Japanese\n",
    "    (-1.39) Polish\n",
    "    (-3.51) Czech\n",
    "\n",
    "``server.py`` 를 실행하고 예측의 JSON 출력을 얻기 위해\n",
    "http://localhost:5533/Yourname 방문.\n",
    "\n",
    "\n"
   ]
  },
  {
   "cell_type": "markdown",
   "metadata": {},
   "source": [
    "연습\n",
    "=========\n",
    "\n",
    "-  \"line -> category\" 의 다른 데이터 집합으로 시도해보십시오, 예를 들어:\n",
    "\n",
    "   -  단어 -> 언어\n",
    "   -  이름 -> 성별\n",
    "   -  캐릭터 이름 -> 작가\n",
    "   -  페이지 제목 -> 블로그 또는 서브레딧\n",
    "\n",
    "-  더 크고 더 나은 모양의 네트워크로 더 나은 결과를 얻으십시오.\n",
    "\n",
    "   -  더많은 선형 계층을 추가해 보십시오\n",
    "   -  ``nn.LSTM`` 과 ``nn.GRU`` 계층을 추가해 보십시오\n",
    "   -  여러 개의 이런 RNN을 상위 수준 네트워크로 결합해 보십시오\n",
    "\n",
    "\n"
   ]
  }
 ],
 "metadata": {
  "kernelspec": {
   "display_name": "Python 3",
   "language": "python",
   "name": "python3"
  },
  "language_info": {
   "codemirror_mode": {
    "name": "ipython",
    "version": 3
   },
   "file_extension": ".py",
   "mimetype": "text/x-python",
   "name": "python",
   "nbconvert_exporter": "python",
   "pygments_lexer": "ipython3",
   "version": "3.6.4"
  }
 },
 "nbformat": 4,
 "nbformat_minor": 4
}
