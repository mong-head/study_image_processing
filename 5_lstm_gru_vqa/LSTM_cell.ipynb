{
 "cells": [
  {
   "cell_type": "markdown",
   "metadata": {},
   "source": [
    "# LSTM Cell 구현하기\n",
    "\n",
    "<img src=\"https://user-images.githubusercontent.com/52481037/100769594-9f972980-343f-11eb-83bc-72d4aae7729d.png\" width=\"600\"/>"
   ]
  },
  {
   "cell_type": "code",
   "execution_count": 1,
   "metadata": {},
   "outputs": [],
   "source": [
    "import torch\n",
    "from torch import nn\n",
    "from torch import Tensor\n",
    "from torch.nn import functional as F\n",
    "import math"
   ]
  },
  {
   "cell_type": "code",
   "execution_count": 2,
   "metadata": {},
   "outputs": [],
   "source": [
    "class LSTMCell(nn.Module):\n",
    "    def __init__(self, input_size, hidden_size, bias=True):\n",
    "        super(LSTMCell, self).__init__()\n",
    "        self.input_size = input_size\n",
    "        self.hidden_size = hidden_size\n",
    "        self.bias = bias\n",
    "        self.x2h = nn.Linear(input_size, 4 * hidden_size, bias=bias) #gate 4개\n",
    "        self.h2h = nn.Linear(hidden_size, 4 * hidden_size, bias=bias) \n",
    "        self.c2c = Tensor(hidden_size * 3)\n",
    "        self.reset_parameters()\n",
    "\n",
    "    def reset_parameters(self):\n",
    "        std = 1.0 / math.sqrt(self.hidden_size)\n",
    "        for w in self.parameters():\n",
    "            w.data.uniform_(-std, std)\n",
    "    \n",
    "    def forward(self, x, hidden):\n",
    "        hx, cx = hidden\n",
    "\n",
    "        x = x.view(-1, x.size(1))\n",
    "        gates = self.x2h(x) + self.h2h(hx)\n",
    "    \n",
    "        c2c = self.c2c.unsqueeze(0)\n",
    "        ci, cf, co = c2c.chunk(3,1)\n",
    "        ingate, forgetgate, cellgate, outgate = gates.chunk(4, 1)\n",
    "        \n",
    "        ingate = torch.sigmoid(ingate+ ci * cx)\n",
    "        forgetgate = torch.sigmoid(forgetgate + cf * cx)\n",
    "        cellgate = forgetgate*cx + ingate* torch.tanh(cellgate)\n",
    "        outgate = torch.sigmoid(outgate+ co*cellgate)\n",
    "        \n",
    "\n",
    "        hm = outgate * torch.tanh(cellgate)\n",
    "        return hm, (hm, cellgate)"
   ]
  },
  {
   "cell_type": "code",
   "execution_count": 3,
   "metadata": {},
   "outputs": [
    {
     "name": "stdout",
     "output_type": "stream",
     "text": [
      "torch.Size([1, 32]) torch.Size([1, 32])\n"
     ]
    }
   ],
   "source": [
    "lstm_cell = LSTMCell(50, 32)\n",
    "\n",
    "inp = torch.randn(1, 50)\n",
    "hidden = torch.randn(1, 32)\n",
    "cell = torch.randn(1, 32)\n",
    "\n",
    "ou, hd = lstm_cell(inp, (hidden, cell))\n",
    "print(ou.shape, hd[1].shape)"
   ]
  },
  {
   "cell_type": "code",
   "execution_count": null,
   "metadata": {},
   "outputs": [],
   "source": []
  }
 ],
 "metadata": {
  "kernelspec": {
   "display_name": "Python 3",
   "language": "python",
   "name": "python3"
  },
  "language_info": {
   "codemirror_mode": {
    "name": "ipython",
    "version": 3
   },
   "file_extension": ".py",
   "mimetype": "text/x-python",
   "name": "python",
   "nbconvert_exporter": "python",
   "pygments_lexer": "ipython3",
   "version": "3.8.5"
  }
 },
 "nbformat": 4,
 "nbformat_minor": 4
}
