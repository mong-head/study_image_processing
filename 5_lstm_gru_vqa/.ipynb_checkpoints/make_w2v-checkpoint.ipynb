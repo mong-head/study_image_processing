{
 "cells": [
  {
   "cell_type": "markdown",
   "metadata": {},
   "source": [
    "## 자기만의 Word2Vec 만들어보기\n",
    "\n",
    "<말뭉치> -> 나만의 word2vec 인코더 만들기\n",
    "\n",
    "* 남자\n",
    "* 여자\n",
    "* 우주비행사\n",
    "* 여왕\n",
    "* 왕\n",
    "* 초등학생\n",
    "* 중학생\n",
    "* 암소\n",
    "* 숫소\n",
    "* 호랑이\n",
    "* 강아지\n",
    "* 송아지\n",
    "* 병아리\n",
    "* 주택\n",
    "* 아파트\n",
    "* 빌딩\n",
    "* 꼬마빌딩"
   ]
  },
  {
   "cell_type": "code",
   "execution_count": null,
   "metadata": {},
   "outputs": [],
   "source": []
  },
  {
   "cell_type": "code",
   "execution_count": null,
   "metadata": {},
   "outputs": [],
   "source": []
  }
 ],
 "metadata": {
  "kernelspec": {
   "display_name": "Python 3",
   "language": "python",
   "name": "python3"
  },
  "language_info": {
   "codemirror_mode": {
    "name": "ipython",
    "version": 3
   },
   "file_extension": ".py",
   "mimetype": "text/x-python",
   "name": "python",
   "nbconvert_exporter": "python",
   "pygments_lexer": "ipython3",
   "version": "3.8.5"
  }
 },
 "nbformat": 4,
 "nbformat_minor": 4
}
