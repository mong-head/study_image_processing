{
 "cells": [
  {
   "cell_type": "markdown",
   "metadata": {},
   "source": [
    "# InfoGAN \n",
    "\n",
    "- Discrete category + continuous category\n",
    "\n",
    "<img src=\"./infogan.png\" width=\"400\">"
   ]
  },
  {
   "cell_type": "markdown",
   "metadata": {},
   "source": [
    "## 1. Import required libraries"
   ]
  },
  {
   "cell_type": "code",
   "execution_count": 1,
   "metadata": {},
   "outputs": [],
   "source": [
    "import torch\n",
    "import torch.nn as nn\n",
    "import torch.utils as utils\n",
    "import torch.nn.init as init\n",
    "from torch.autograd import Variable\n",
    "import torchvision.datasets as dset\n",
    "import torchvision.utils as v_utils\n",
    "import torchvision.transforms as transforms\n",
    "import numpy as np\n",
    "import matplotlib.pyplot as plt\n",
    "from collections import OrderedDict\n",
    "import os"
   ]
  },
  {
   "cell_type": "markdown",
   "metadata": {},
   "source": [
    "## 2. Hyperparameter & Data setting"
   ]
  },
  {
   "cell_type": "code",
   "execution_count": 2,
   "metadata": {},
   "outputs": [],
   "source": [
    "# Set Hyperparameters\n",
    "\n",
    "epoch = 50\n",
    "batch_size = 128\n",
    "learning_rate = 0.0002\n",
    "num_gpus = 1\n",
    "z_size= 62\n",
    "discrete_latent_size = 10\n",
    "contin_latent_size = 2\n",
    "ratio = 1\n",
    "\n",
    "# Download Data & Set Data Loader(input pipeline)\n",
    "\n",
    "mnist_train = dset.MNIST(\"./\", train=True, \n",
    "                         transform=transforms.Compose([\n",
    "                             transforms.ToTensor(),\n",
    "                             transforms.Normalize((0.5), (0.5)),\n",
    "                        ]),\n",
    "                        target_transform=None,\n",
    "                        download=True)\n",
    "\n",
    "train_loader = torch.utils.data.DataLoader(dataset=mnist_train,batch_size=batch_size,shuffle=True,drop_last=True)"
   ]
  },
  {
   "cell_type": "markdown",
   "metadata": {},
   "source": [
    "## 3. Label into one-hot vector"
   ]
  },
  {
   "cell_type": "code",
   "execution_count": 3,
   "metadata": {},
   "outputs": [],
   "source": [
    "def int_to_onehot(z_label):\n",
    "    one_hot_array = np.zeros(shape=[len(z_label), discrete_latent_size])\n",
    "    one_hot_array[np.arange(len(z_label)), z_label] = 1\n",
    "    return one_hot_array"
   ]
  },
  {
   "cell_type": "markdown",
   "metadata": {},
   "source": [
    "## 4. Generator"
   ]
  },
  {
   "cell_type": "code",
   "execution_count": 4,
   "metadata": {},
   "outputs": [],
   "source": [
    "class Generator(nn.Module):\n",
    "    def __init__(self):\n",
    "        super(Generator,self).__init__()\n",
    "        self.layer1 = nn.Sequential(\n",
    "                    nn.Linear(z_size+discrete_latent_size+contin_latent_size,1024),\n",
    "                    nn.BatchNorm1d(1024),\n",
    "                    nn.ReLU(),               \n",
    "                    nn.Linear(1024,7*7*256),               \n",
    "                    nn.BatchNorm1d(7*7*256),\n",
    "                    nn.ReLU(), \n",
    "            )              \n",
    "        self.layer2 = nn.Sequential(OrderedDict([\n",
    "                ('conv1', nn.ConvTranspose2d(256,128,3,2,1,1)), # [batch,256,7,7] -> [batch,128,14,14]\n",
    "                ('bn1', nn.BatchNorm2d(128)),    \n",
    "                ('relu1', nn.ReLU()),\n",
    "                ('conv2', nn.ConvTranspose2d(128,64,3,1,1)),    # [batch,128,14,14] -> [batch,64,14,14]\n",
    "                ('bn2', nn.BatchNorm2d(64)),    \n",
    "                ('relu2', nn.ReLU()),\n",
    "                \n",
    "            ]))\n",
    "        self.layer3 = nn.Sequential(OrderedDict([\n",
    "                ('conv3',nn.ConvTranspose2d(64,32,3,1,1)),      # [batch,64,14,14] -> [batch,16,14,14]\n",
    "                ('bn3',nn.BatchNorm2d(32)),    \n",
    "                ('relu3',nn.ReLU()),\n",
    "                ('conv4',nn.ConvTranspose2d(32,1,3,2,1,1)),     # [batch,16,14,14] -> [batch,1,28,28]\n",
    "                ('tanh',nn.Tanh())\n",
    "            ]))\n",
    "\n",
    "    def forward(self,z):\n",
    "        out = self.layer1(z)\n",
    "        out = out.view(batch_size//num_gpus,256,7,7)\n",
    "        out = self.layer2(out)\n",
    "        out = self.layer3(out)\n",
    "        return out\n"
   ]
  },
  {
   "cell_type": "markdown",
   "metadata": {},
   "source": [
    "## 5. Discriminator"
   ]
  },
  {
   "cell_type": "code",
   "execution_count": 5,
   "metadata": {},
   "outputs": [],
   "source": [
    "class Discriminator(nn.Module):\n",
    "    def __init__(self):\n",
    "        super(Discriminator,self).__init__()\n",
    "        self.layer1 = nn.Sequential(OrderedDict([\n",
    "                ('conv1',nn.Conv2d(1,32,3,stride=2,padding=1)),        # [batch,1,28,28] -> [batch,32,14,14]\n",
    "                ('relu1',nn.LeakyReLU(0.1)),\n",
    "                ('conv2',nn.Conv2d(32,64,3,stride=2,padding=1)),      # [batch,32,14,14] -> [batch,64,7,7]\n",
    "                ('bn2',nn.BatchNorm2d(64)),    \n",
    "                ('relu2',nn.LeakyReLU(0.1)),\n",
    "            ]))\n",
    "        \n",
    "        self.layer2 = nn.Sequential(\n",
    "                nn.Linear(64*7*7,256),\n",
    "                nn.BatchNorm1d(256),\n",
    "                nn.LeakyReLU(0.1),\n",
    "                nn.Linear(256,1+discrete_latent_size+contin_latent_size) # GAN + Category + Continuous\n",
    "            )\n",
    "        self.sigmoid = nn.Sigmoid()\n",
    "    \n",
    "    def forward(self,x):\n",
    "        out = self.layer1(x)\n",
    "        out = out.view(batch_size//num_gpus, -1)\n",
    "        \n",
    "        out = self.layer2(out)  \n",
    "                \n",
    "        output = self.sigmoid(out[:,0:1])\n",
    "        onehot = self.sigmoid(out[:,1:11])\n",
    "        contin = out[:,11:]\n",
    "        \n",
    "        return output,onehot,contin"
   ]
  },
  {
   "cell_type": "markdown",
   "metadata": {},
   "source": [
    "## 6. Instance & Label on GPU"
   ]
  },
  {
   "cell_type": "code",
   "execution_count": 6,
   "metadata": {},
   "outputs": [],
   "source": [
    "# put class instance on multi gpu\n",
    "\n",
    "# generator = nn.DataParallel(Generator(),device_ids=[0])\n",
    "# discriminator = nn.DataParallel(Discriminator(),device_ids=[0])\n",
    "generator = Generator()\n",
    "discriminator = Discriminator()\n",
    "\n",
    "# put labels on multi gpu\n",
    "\n",
    "ones_label = Variable(torch.ones(batch_size,1)).cpu()\n",
    "zeros_label = Variable(torch.zeros(batch_size,1)).cpu()"
   ]
  },
  {
   "cell_type": "markdown",
   "metadata": {},
   "source": [
    "## 7. Loss function & Optimizer"
   ]
  },
  {
   "cell_type": "code",
   "execution_count": 7,
   "metadata": {},
   "outputs": [],
   "source": [
    "gan_loss_func = nn.BCELoss()\n",
    "cat_loss_func = nn.CrossEntropyLoss()\n",
    "contin_loss_func = nn.MSELoss()\n",
    "\n",
    "gen_optim = torch.optim.Adam(generator.parameters(), lr= 5*learning_rate,betas=(0.5,0.999))\n",
    "dis_optim = torch.optim.Adam(discriminator.parameters(), lr=learning_rate,betas=(0.5,0.999))"
   ]
  },
  {
   "cell_type": "markdown",
   "metadata": {},
   "source": [
    "## 8. Model restore"
   ]
  },
  {
   "cell_type": "code",
   "execution_count": 8,
   "metadata": {},
   "outputs": [
    {
     "name": "stdout",
     "output_type": "stream",
     "text": [
      "\n",
      "--------model restored--------\n",
      "\n"
     ]
    }
   ],
   "source": [
    "try:\n",
    "    generator, discriminator = torch.load('./model/infogan_catcon.pkl')\n",
    "    print(\"\\n--------model restored--------\\n\")\n",
    "except:\n",
    "    print(\"\\n--------model not restored--------\\n\")\n",
    "    pass"
   ]
  },
  {
   "cell_type": "code",
   "execution_count": 9,
   "metadata": {},
   "outputs": [],
   "source": [
    "def image_check(gen_fake):\n",
    "    img = gen_fake.data.numpy()\n",
    "    for i in range(10):\n",
    "        plt.imshow(img[i][0],cmap='gray')\n",
    "        plt.show()\n",
    "\n",
    "def contin_check(i):\n",
    "    for j in range(10):\n",
    "        z_random = np.random.rand(batch_size,z_size)\n",
    "        z_onehot = np.random.randint(0, 10, size=batch_size)\n",
    "        z_contin = np.random.uniform(-1,1,size=[batch_size,2])\n",
    "\n",
    "        # change first 10 labels from random to 0~9          \n",
    "        for l in range(40):\n",
    "            z_onehot[l]=j\n",
    "\n",
    "            if l <= 20: \n",
    "                z_contin[l,0]= (l-10)/5\n",
    "                z_contin[l,1]= 0 \n",
    "                \n",
    "            else:      \n",
    "                z_contin[l,0]= 0\n",
    "                z_contin[l,1]= (l-30)/5\n",
    "\n",
    "        #print(z_contin)\n",
    "\n",
    "        # preprocess z\n",
    "        z_label_onehot = int_to_onehot(z_onehot)\n",
    "        z_concat = np.concatenate([z_random, z_label_onehot,z_contin], axis=1)\n",
    "        z = Variable(torch.from_numpy(z_concat).type_as(torch.FloatTensor()))#.cuda()\n",
    "\n",
    "        gen_fake = generator.forward(z)\n",
    "\n",
    "        v_utils.save_image(gen_fake.data[0:40],\"./result_contin/gen_{}_{}.png\".format(i,j),nrow=10)"
   ]
  },
  {
   "cell_type": "markdown",
   "metadata": {},
   "source": [
    "## 9. Train Model"
   ]
  },
  {
   "cell_type": "code",
   "execution_count": 10,
   "metadata": {
    "scrolled": true
   },
   "outputs": [
    {
     "name": "stderr",
     "output_type": "stream",
     "text": [
      "C:\\Users\\melon\\anaconda3\\lib\\site-packages\\torch\\autograd\\__init__.py:130: UserWarning: CUDA initialization: Found no NVIDIA driver on your system. Please check that you have an NVIDIA GPU and installed a driver from http://www.nvidia.com/Download/index.aspx (Triggered internally at  ..\\c10\\cuda\\CUDAFunctions.cpp:100.)\n",
      "  Variable._execution_engine.run_backward(\n"
     ]
    },
    {
     "name": "stdout",
     "output_type": "stream",
     "text": [
      "0th iteration gen_loss: 3.023212432861328 dis_loss: 3.876631498336792\n",
      "0th iteration gen_loss: 3.1019060611724854 dis_loss: 3.8390309810638428\n",
      "0th iteration gen_loss: 3.1158711910247803 dis_loss: 3.9213175773620605\n",
      "0th iteration gen_loss: 3.096874952316284 dis_loss: 3.836695671081543\n",
      "0th iteration gen_loss: 3.07358455657959 dis_loss: 3.853877067565918\n",
      "0th iteration gen_loss: 3.1382553577423096 dis_loss: 3.865562915802002\n",
      "0th iteration gen_loss: 3.153231143951416 dis_loss: 3.8547210693359375\n",
      "0th iteration gen_loss: 3.0912883281707764 dis_loss: 3.8563990592956543\n",
      "0th iteration gen_loss: 3.0907297134399414 dis_loss: 3.8662304878234863\n",
      "0th iteration gen_loss: 3.154775857925415 dis_loss: 3.830125331878662\n",
      "0th iteration gen_loss: 3.1186094284057617 dis_loss: 3.86092472076416\n",
      "0th iteration gen_loss: 3.1201000213623047 dis_loss: 3.8486337661743164\n",
      "0th iteration gen_loss: 3.111607789993286 dis_loss: 3.835916519165039\n",
      "0th iteration gen_loss: 3.1096508502960205 dis_loss: 3.8400020599365234\n",
      "0th iteration gen_loss: 3.0791401863098145 dis_loss: 3.787937641143799\n",
      "0th iteration gen_loss: 3.170046329498291 dis_loss: 3.802955150604248\n",
      "0th iteration gen_loss: 3.0947964191436768 dis_loss: 3.885406017303467\n",
      "0th iteration gen_loss: 3.0931248664855957 dis_loss: 3.8298377990722656\n",
      "0th iteration gen_loss: 3.078758716583252 dis_loss: 3.9039864540100098\n",
      "0th iteration gen_loss: 3.112673759460449 dis_loss: 3.8694238662719727\n",
      "0th iteration gen_loss: 3.139819622039795 dis_loss: 3.853271722793579\n",
      "0th iteration gen_loss: 3.091691255569458 dis_loss: 3.8466286659240723\n",
      "0th iteration gen_loss: 3.0900352001190186 dis_loss: 3.897244453430176\n",
      "0th iteration gen_loss: 3.1125621795654297 dis_loss: 3.907282829284668\n",
      "0th iteration gen_loss: 3.1157326698303223 dis_loss: 3.86753249168396\n",
      "0th iteration gen_loss: 3.080190420150757 dis_loss: 3.838733196258545\n",
      "0th iteration gen_loss: 3.131077527999878 dis_loss: 3.8221259117126465\n",
      "0th iteration gen_loss: 3.046257972717285 dis_loss: 3.777108907699585\n",
      "0th iteration gen_loss: 3.091705083847046 dis_loss: 3.842820882797241\n",
      "0th iteration gen_loss: 3.081313371658325 dis_loss: 3.8210856914520264\n",
      "0th iteration gen_loss: 3.135852813720703 dis_loss: 3.8534069061279297\n",
      "0th iteration gen_loss: 3.123556137084961 dis_loss: 3.8637263774871826\n",
      "0th iteration gen_loss: 3.137876510620117 dis_loss: 3.841730833053589\n",
      "0th iteration gen_loss: 3.140523910522461 dis_loss: 3.834296703338623\n",
      "0th iteration gen_loss: 3.158464193344116 dis_loss: 3.824490547180176\n",
      "0th iteration gen_loss: 3.0889432430267334 dis_loss: 3.827160358428955\n",
      "0th iteration gen_loss: 3.07411527633667 dis_loss: 3.8493170738220215\n",
      "0th iteration gen_loss: 3.1247239112854004 dis_loss: 3.874797821044922\n",
      "0th iteration gen_loss: 3.0812456607818604 dis_loss: 3.8449912071228027\n",
      "0th iteration gen_loss: 3.095669984817505 dis_loss: 3.876408815383911\n",
      "0th iteration gen_loss: 3.0916035175323486 dis_loss: 3.831103801727295\n",
      "0th iteration gen_loss: 3.107858180999756 dis_loss: 3.8587028980255127\n",
      "0th iteration gen_loss: 3.1330296993255615 dis_loss: 3.870239496231079\n"
     ]
    },
    {
     "ename": "KeyboardInterrupt",
     "evalue": "",
     "output_type": "error",
     "traceback": [
      "\u001b[1;31m---------------------------------------------------------------------------\u001b[0m",
      "\u001b[1;31mKeyboardInterrupt\u001b[0m                         Traceback (most recent call last)",
      "\u001b[1;32m<ipython-input-10-1a0e2cc5850c>\u001b[0m in \u001b[0;36m<module>\u001b[1;34m\u001b[0m\n\u001b[0;32m     29\u001b[0m         \u001b[1;31m# dis_loss = gan_loss(fake & real) + categorical loss\u001b[0m\u001b[1;33m\u001b[0m\u001b[1;33m\u001b[0m\u001b[1;33m\u001b[0m\u001b[0m\n\u001b[0;32m     30\u001b[0m \u001b[1;33m\u001b[0m\u001b[0m\n\u001b[1;32m---> 31\u001b[1;33m         \u001b[0mgen_fake\u001b[0m \u001b[1;33m=\u001b[0m \u001b[0mgenerator\u001b[0m\u001b[1;33m.\u001b[0m\u001b[0mforward\u001b[0m\u001b[1;33m(\u001b[0m\u001b[0mz\u001b[0m\u001b[1;33m)\u001b[0m\u001b[1;33m\u001b[0m\u001b[1;33m\u001b[0m\u001b[0m\n\u001b[0m\u001b[0;32m     32\u001b[0m         \u001b[0mdis_fake\u001b[0m\u001b[1;33m,\u001b[0m \u001b[0monehot_fake\u001b[0m\u001b[1;33m,\u001b[0m \u001b[0mcontin_fake\u001b[0m \u001b[1;33m=\u001b[0m \u001b[0mdiscriminator\u001b[0m\u001b[1;33m.\u001b[0m\u001b[0mforward\u001b[0m\u001b[1;33m(\u001b[0m\u001b[0mgen_fake\u001b[0m\u001b[1;33m)\u001b[0m\u001b[1;33m\u001b[0m\u001b[1;33m\u001b[0m\u001b[0m\n\u001b[0;32m     33\u001b[0m \u001b[1;33m\u001b[0m\u001b[0m\n",
      "\u001b[1;32m<ipython-input-4-54cd93b604f3>\u001b[0m in \u001b[0;36mforward\u001b[1;34m(self, z)\u001b[0m\n\u001b[0;32m     30\u001b[0m         \u001b[0mout\u001b[0m \u001b[1;33m=\u001b[0m \u001b[0mself\u001b[0m\u001b[1;33m.\u001b[0m\u001b[0mlayer1\u001b[0m\u001b[1;33m(\u001b[0m\u001b[0mz\u001b[0m\u001b[1;33m)\u001b[0m\u001b[1;33m\u001b[0m\u001b[1;33m\u001b[0m\u001b[0m\n\u001b[0;32m     31\u001b[0m         \u001b[0mout\u001b[0m \u001b[1;33m=\u001b[0m \u001b[0mout\u001b[0m\u001b[1;33m.\u001b[0m\u001b[0mview\u001b[0m\u001b[1;33m(\u001b[0m\u001b[0mbatch_size\u001b[0m\u001b[1;33m//\u001b[0m\u001b[0mnum_gpus\u001b[0m\u001b[1;33m,\u001b[0m\u001b[1;36m256\u001b[0m\u001b[1;33m,\u001b[0m\u001b[1;36m7\u001b[0m\u001b[1;33m,\u001b[0m\u001b[1;36m7\u001b[0m\u001b[1;33m)\u001b[0m\u001b[1;33m\u001b[0m\u001b[1;33m\u001b[0m\u001b[0m\n\u001b[1;32m---> 32\u001b[1;33m         \u001b[0mout\u001b[0m \u001b[1;33m=\u001b[0m \u001b[0mself\u001b[0m\u001b[1;33m.\u001b[0m\u001b[0mlayer2\u001b[0m\u001b[1;33m(\u001b[0m\u001b[0mout\u001b[0m\u001b[1;33m)\u001b[0m\u001b[1;33m\u001b[0m\u001b[1;33m\u001b[0m\u001b[0m\n\u001b[0m\u001b[0;32m     33\u001b[0m         \u001b[0mout\u001b[0m \u001b[1;33m=\u001b[0m \u001b[0mself\u001b[0m\u001b[1;33m.\u001b[0m\u001b[0mlayer3\u001b[0m\u001b[1;33m(\u001b[0m\u001b[0mout\u001b[0m\u001b[1;33m)\u001b[0m\u001b[1;33m\u001b[0m\u001b[1;33m\u001b[0m\u001b[0m\n\u001b[0;32m     34\u001b[0m         \u001b[1;32mreturn\u001b[0m \u001b[0mout\u001b[0m\u001b[1;33m\u001b[0m\u001b[1;33m\u001b[0m\u001b[0m\n",
      "\u001b[1;32m~\\anaconda3\\lib\\site-packages\\torch\\nn\\modules\\module.py\u001b[0m in \u001b[0;36m_call_impl\u001b[1;34m(self, *input, **kwargs)\u001b[0m\n\u001b[0;32m    725\u001b[0m             \u001b[0mresult\u001b[0m \u001b[1;33m=\u001b[0m \u001b[0mself\u001b[0m\u001b[1;33m.\u001b[0m\u001b[0m_slow_forward\u001b[0m\u001b[1;33m(\u001b[0m\u001b[1;33m*\u001b[0m\u001b[0minput\u001b[0m\u001b[1;33m,\u001b[0m \u001b[1;33m**\u001b[0m\u001b[0mkwargs\u001b[0m\u001b[1;33m)\u001b[0m\u001b[1;33m\u001b[0m\u001b[1;33m\u001b[0m\u001b[0m\n\u001b[0;32m    726\u001b[0m         \u001b[1;32melse\u001b[0m\u001b[1;33m:\u001b[0m\u001b[1;33m\u001b[0m\u001b[1;33m\u001b[0m\u001b[0m\n\u001b[1;32m--> 727\u001b[1;33m             \u001b[0mresult\u001b[0m \u001b[1;33m=\u001b[0m \u001b[0mself\u001b[0m\u001b[1;33m.\u001b[0m\u001b[0mforward\u001b[0m\u001b[1;33m(\u001b[0m\u001b[1;33m*\u001b[0m\u001b[0minput\u001b[0m\u001b[1;33m,\u001b[0m \u001b[1;33m**\u001b[0m\u001b[0mkwargs\u001b[0m\u001b[1;33m)\u001b[0m\u001b[1;33m\u001b[0m\u001b[1;33m\u001b[0m\u001b[0m\n\u001b[0m\u001b[0;32m    728\u001b[0m         for hook in itertools.chain(\n\u001b[0;32m    729\u001b[0m                 \u001b[0m_global_forward_hooks\u001b[0m\u001b[1;33m.\u001b[0m\u001b[0mvalues\u001b[0m\u001b[1;33m(\u001b[0m\u001b[1;33m)\u001b[0m\u001b[1;33m,\u001b[0m\u001b[1;33m\u001b[0m\u001b[1;33m\u001b[0m\u001b[0m\n",
      "\u001b[1;32m~\\anaconda3\\lib\\site-packages\\torch\\nn\\modules\\container.py\u001b[0m in \u001b[0;36mforward\u001b[1;34m(self, input)\u001b[0m\n\u001b[0;32m    115\u001b[0m     \u001b[1;32mdef\u001b[0m \u001b[0mforward\u001b[0m\u001b[1;33m(\u001b[0m\u001b[0mself\u001b[0m\u001b[1;33m,\u001b[0m \u001b[0minput\u001b[0m\u001b[1;33m)\u001b[0m\u001b[1;33m:\u001b[0m\u001b[1;33m\u001b[0m\u001b[1;33m\u001b[0m\u001b[0m\n\u001b[0;32m    116\u001b[0m         \u001b[1;32mfor\u001b[0m \u001b[0mmodule\u001b[0m \u001b[1;32min\u001b[0m \u001b[0mself\u001b[0m\u001b[1;33m:\u001b[0m\u001b[1;33m\u001b[0m\u001b[1;33m\u001b[0m\u001b[0m\n\u001b[1;32m--> 117\u001b[1;33m             \u001b[0minput\u001b[0m \u001b[1;33m=\u001b[0m \u001b[0mmodule\u001b[0m\u001b[1;33m(\u001b[0m\u001b[0minput\u001b[0m\u001b[1;33m)\u001b[0m\u001b[1;33m\u001b[0m\u001b[1;33m\u001b[0m\u001b[0m\n\u001b[0m\u001b[0;32m    118\u001b[0m         \u001b[1;32mreturn\u001b[0m \u001b[0minput\u001b[0m\u001b[1;33m\u001b[0m\u001b[1;33m\u001b[0m\u001b[0m\n\u001b[0;32m    119\u001b[0m \u001b[1;33m\u001b[0m\u001b[0m\n",
      "\u001b[1;32m~\\anaconda3\\lib\\site-packages\\torch\\nn\\modules\\module.py\u001b[0m in \u001b[0;36m_call_impl\u001b[1;34m(self, *input, **kwargs)\u001b[0m\n\u001b[0;32m    725\u001b[0m             \u001b[0mresult\u001b[0m \u001b[1;33m=\u001b[0m \u001b[0mself\u001b[0m\u001b[1;33m.\u001b[0m\u001b[0m_slow_forward\u001b[0m\u001b[1;33m(\u001b[0m\u001b[1;33m*\u001b[0m\u001b[0minput\u001b[0m\u001b[1;33m,\u001b[0m \u001b[1;33m**\u001b[0m\u001b[0mkwargs\u001b[0m\u001b[1;33m)\u001b[0m\u001b[1;33m\u001b[0m\u001b[1;33m\u001b[0m\u001b[0m\n\u001b[0;32m    726\u001b[0m         \u001b[1;32melse\u001b[0m\u001b[1;33m:\u001b[0m\u001b[1;33m\u001b[0m\u001b[1;33m\u001b[0m\u001b[0m\n\u001b[1;32m--> 727\u001b[1;33m             \u001b[0mresult\u001b[0m \u001b[1;33m=\u001b[0m \u001b[0mself\u001b[0m\u001b[1;33m.\u001b[0m\u001b[0mforward\u001b[0m\u001b[1;33m(\u001b[0m\u001b[1;33m*\u001b[0m\u001b[0minput\u001b[0m\u001b[1;33m,\u001b[0m \u001b[1;33m**\u001b[0m\u001b[0mkwargs\u001b[0m\u001b[1;33m)\u001b[0m\u001b[1;33m\u001b[0m\u001b[1;33m\u001b[0m\u001b[0m\n\u001b[0m\u001b[0;32m    728\u001b[0m         for hook in itertools.chain(\n\u001b[0;32m    729\u001b[0m                 \u001b[0m_global_forward_hooks\u001b[0m\u001b[1;33m.\u001b[0m\u001b[0mvalues\u001b[0m\u001b[1;33m(\u001b[0m\u001b[1;33m)\u001b[0m\u001b[1;33m,\u001b[0m\u001b[1;33m\u001b[0m\u001b[1;33m\u001b[0m\u001b[0m\n",
      "\u001b[1;32m~\\anaconda3\\lib\\site-packages\\torch\\nn\\modules\\conv.py\u001b[0m in \u001b[0;36mforward\u001b[1;34m(self, input, output_size)\u001b[0m\n\u001b[0;32m    925\u001b[0m             input, output_size, self.stride, self.padding, self.kernel_size, self.dilation)\n\u001b[0;32m    926\u001b[0m \u001b[1;33m\u001b[0m\u001b[0m\n\u001b[1;32m--> 927\u001b[1;33m         return F.conv_transpose2d(\n\u001b[0m\u001b[0;32m    928\u001b[0m             \u001b[0minput\u001b[0m\u001b[1;33m,\u001b[0m \u001b[0mself\u001b[0m\u001b[1;33m.\u001b[0m\u001b[0mweight\u001b[0m\u001b[1;33m,\u001b[0m \u001b[0mself\u001b[0m\u001b[1;33m.\u001b[0m\u001b[0mbias\u001b[0m\u001b[1;33m,\u001b[0m \u001b[0mself\u001b[0m\u001b[1;33m.\u001b[0m\u001b[0mstride\u001b[0m\u001b[1;33m,\u001b[0m \u001b[0mself\u001b[0m\u001b[1;33m.\u001b[0m\u001b[0mpadding\u001b[0m\u001b[1;33m,\u001b[0m\u001b[1;33m\u001b[0m\u001b[1;33m\u001b[0m\u001b[0m\n\u001b[0;32m    929\u001b[0m             output_padding, self.groups, self.dilation)\n",
      "\u001b[1;31mKeyboardInterrupt\u001b[0m: "
     ]
    }
   ],
   "source": [
    "for i in range(epoch):\n",
    "    for j,(image,_) in enumerate(train_loader):\n",
    "        \n",
    "        # put image & label on gpu\n",
    "        image = Variable(image)\n",
    "    \n",
    "        #####################\n",
    "        ##  discriminator  ##\n",
    "        ##################### \n",
    "        \n",
    "        z_random = np.random.normal(0,0.1,size=[batch_size,z_size])\n",
    "        z_onehot = np.random.randint(0, 10, size=batch_size)\n",
    "        z_contin = np.random.uniform(-1,1,size=[batch_size,2])\n",
    "\n",
    "        # change first 10 labels from random to 0~9          \n",
    "        \n",
    "        for l in range(10):\n",
    "            z_onehot[l]=l\n",
    "\n",
    "        # preprocess z\n",
    "        \n",
    "        z_label_onehot = int_to_onehot(z_onehot)\n",
    "        z_concat = np.concatenate([z_random, z_label_onehot,z_contin], axis=1)\n",
    "\n",
    "        z = Variable(torch.from_numpy(z_concat).type_as(torch.FloatTensor()))\n",
    "        z_label_category = Variable(torch.from_numpy(z_onehot).type_as(torch.LongTensor()))\n",
    "        z_label_contin = Variable(torch.from_numpy(z_contin).type_as(torch.FloatTensor()))\n",
    "       \n",
    "        # dis_loss = gan_loss(fake & real) + categorical loss\n",
    "        \n",
    "        gen_fake = generator.forward(z)\n",
    "        dis_fake, onehot_fake, contin_fake = discriminator.forward(gen_fake)\n",
    "        \n",
    "        dis_optim.zero_grad()\n",
    "        dis_real, label_real, contin_real = discriminator.forward(image)\n",
    "        dis_loss = torch.sum(gan_loss_func(dis_fake,zeros_label))\\\n",
    "                 + torch.sum(gan_loss_func(dis_real,ones_label))\\\n",
    "                 + ratio *(torch.sum(cat_loss_func(onehot_fake,z_label_category))\\\n",
    "                 + torch.sum(contin_loss_func(contin_fake,z_label_contin)))\n",
    "                \n",
    "        dis_loss.backward()\n",
    "        dis_optim.step()\n",
    "        \n",
    "        #################\n",
    "        ##  generator  ##\n",
    "        #################\n",
    "            \n",
    "        z_random = np.random.normal(0,0.1,size=[batch_size,z_size])\n",
    "        z_onehot = np.random.randint(0, 10, size=batch_size)\n",
    "        z_contin = np.random.uniform(-1,1,size=[batch_size,2])\n",
    "\n",
    "        # change first 10 labels from random to 0~9   \n",
    "        \n",
    "        for l in range(10):\n",
    "            z_onehot[l]=l\n",
    "\n",
    "        # preprocess z\n",
    "        \n",
    "        z_label_onehot = int_to_onehot(z_onehot)\n",
    "        z_concat = np.concatenate([z_random, z_label_onehot,z_contin], axis=1)\n",
    "\n",
    "        z = Variable(torch.from_numpy(z_concat).type_as(torch.FloatTensor()))\n",
    "        z_label_category = Variable(torch.from_numpy(z_onehot).type_as(torch.LongTensor()))\n",
    "        z_label_contin = Variable(torch.from_numpy(z_contin).type_as(torch.FloatTensor()))\n",
    "\n",
    "\n",
    "        # gen_loss = gan loss(fake) + categorical loss\n",
    "        \n",
    "        gen_optim.zero_grad()\n",
    "        gen_fake = generator.forward(z)\n",
    "        dis_fake, onehot_fake, contin_fake = discriminator.forward(gen_fake)\n",
    "        \n",
    "        \n",
    "        gen_loss = torch.sum(gan_loss_func(dis_fake,ones_label)) \\\n",
    "                 + ratio *(torch.sum(cat_loss_func(onehot_fake,z_label_category))\\\n",
    "                 + torch.sum(contin_loss_func(contin_fake,z_label_contin)))\n",
    "\n",
    "        gen_loss.backward()\n",
    "        gen_optim.step()\n",
    "\n",
    "        # model save\n",
    "        \n",
    "        if j % 10 == 0:\n",
    "            torch.save([generator,discriminator],'./model/infogan_catcon.pkl')\n",
    "\n",
    "            # print loss and image save\n",
    "            print(\"{}th iteration gen_loss: {} dis_loss: {}\".format(i,gen_loss.data,dis_loss.data))\n",
    "            os.makedirs('./result_catcon', exist_ok=True)\n",
    "            v_utils.save_image(gen_fake.data[0:20],\"./result_catcon/gen_{}_{}.png\".format(i,j), nrow=5)\n",
    "        \n",
    "    image_check(gen_fake.cpu())\n",
    "    contin_check(i)"
   ]
  },
  {
   "cell_type": "code",
   "execution_count": null,
   "metadata": {},
   "outputs": [],
   "source": []
  }
 ],
 "metadata": {
  "kernelspec": {
   "display_name": "Python 3",
   "language": "python",
   "name": "python3"
  },
  "language_info": {
   "codemirror_mode": {
    "name": "ipython",
    "version": 3
   },
   "file_extension": ".py",
   "mimetype": "text/x-python",
   "name": "python",
   "nbconvert_exporter": "python",
   "pygments_lexer": "ipython3",
   "version": "3.8.5"
  }
 },
 "nbformat": 4,
 "nbformat_minor": 4
}
